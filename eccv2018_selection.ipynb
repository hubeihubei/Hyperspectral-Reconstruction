{
 "cells": [
  {
   "cell_type": "markdown",
   "metadata": {},
   "source": [
    "### Training the unet"
   ]
  },
  {
   "cell_type": "code",
   "execution_count": 55,
   "metadata": {},
   "outputs": [
    {
     "name": "stdout",
     "output_type": "stream",
     "text": [
      "GPU: GeForce GTX 1080 Ti\n"
     ]
    }
   ],
   "source": [
    "# Torch imports\n",
    "import torch\n",
    "import torch.nn as nn\n",
    "import torch.optim as optim\n",
    "import torch.cuda as cuda\n",
    "from torch.autograd import Variable\n",
    "from torch.utils.data import Dataset, DataLoader\n",
    "from collections import OrderedDict\n",
    "\n",
    "import matplotlib.pyplot as plt\n",
    "import pickle as pkl\n",
    "from sklearn.metrics import r2_score, mean_squared_error\n",
    "dtype = torch.FloatTensor\n",
    "import os\n",
    "os.environ[\"CUDA_VISIBLE_DEVICES\"] = \"0\"\n",
    "# Cuda active?\n",
    "if cuda.is_available():\n",
    "    dtype = torch.cuda.FloatTensor\n",
    "    print(\"GPU: {}\".format(cuda.get_device_name(0)))\n",
    "    cuda_available = True\n",
    "else:\n",
    "    cuda_available = False\n",
    "    print(\"Cuda unavailable.\")"
   ]
  },
  {
   "cell_type": "code",
   "execution_count": 56,
   "metadata": {},
   "outputs": [],
   "source": [
    "#%%writefile hyperspectral_dataset.py\n",
    "# Load data\n",
    "import torch\n",
    "from torch.utils.data import Dataset\n",
    "import csv, numpy as np\n",
    "import os\n",
    "import OpenEXR as exr, Imath\n",
    "from collections import defaultdict\n",
    "from PIL import Image\n",
    "from skimage.transform import resize\n",
    "from torchvision import transforms as T\n",
    "\n",
    "####################\n",
    "# Helper functions #\n",
    "####################\n",
    "\n",
    "\n",
    "\n",
    "\n",
    "def readPNGImage(filedir, filename, channelrange, minwavelength, increment):\n",
    "    \"\"\"Helper function for reading patches from the set of png files from the CAVE dataset.\n",
    "    \"\"\"\n",
    "    indexes = [int((wavelength-minwavelength)/increment + 1) for wavelength in channelrange]\n",
    "    # Get image size:\n",
    "    img = Image.open(os.path.join(filedir, \"{}_{:02}.png\".format(filename, 1)))\n",
    "    full = np.zeros((len(channelrange),) + img.size, dtype=np.float16)\n",
    "    img.close()\n",
    "    for i, index in enumerate(indexes):\n",
    "        img = Image.open(os.path.join(filedir, \"{}_{:02}.png\".format(filename, index)))\n",
    "        # Divide by max val of np.uint16 to normalize image\n",
    "        full[i,:,:] = np.array(img, dtype=np.float32)/np.iinfo(np.uint16).max\n",
    "        #full[i,:,:] = np.array(img, dtype=np.float32)\n",
    "    return full\n",
    "\n",
    "###########\n",
    "# Dataset #\n",
    "###########\n",
    "# For reference, the csv field names: \n",
    "# fieldnames = [\"type\", \"dir\", \"name\", \"row\", \"col\", \"side\", \"scale\", \"flip\"]\n",
    "\n",
    "class HyperspectralDataset(Dataset):\n",
    "    def __init__(self, csvfile, minwavelength, maxwavelength, nchannels, height, width):\n",
    "        \"\"\"Open and load the lines of the csvfile.\"\"\"\n",
    "        self.minwavelength = minwavelength\n",
    "        self.maxwavelength = maxwavelength\n",
    "        self.channelrange = range(self.minwavelength, self.maxwavelength+1, 10)\n",
    "        \n",
    "        \n",
    "        # Store dictionaries mapping the image name to\n",
    "        # - a list of entries that stem from that image\n",
    "        # - the datatype (exr or png) of the image\n",
    "        # - the filepath to that image\n",
    "        self.update_entries(csvfile)\n",
    "\n",
    "    def update_entries(self, csvfile):\n",
    "        \"\"\"Refresh the dataset without reloading the images, but adding a different set of csv files.\"\"\"\n",
    "        self.dataEntries = []\n",
    "        self.namesToImages = {}\n",
    "        with open(csvfile, \"r\") as f:\n",
    "            reader = csv.DictReader(f)\n",
    "            for entry in reader:\n",
    "                self.dataEntries.append(entry)\n",
    "                # Add the full image to the dict if not already included.\n",
    "                if entry[\"name\"] not in self.namesToImages:\n",
    "                    print(\"loading {}\".format(entry[\"name\"]))\n",
    "                    # Need to read the image into the dictionary\n",
    "                    if entry[\"type\"] == \"exr\":\n",
    "                        filepath = os.path.join(entry[\"dir\"], entry[\"name\"])\n",
    "                        self.namesToImages[entry[\"name\"]] = readEXRImage(filepath, self.channelrange)\n",
    "                    elif entry[\"type\"] == \"png\":\n",
    "                        self.namesToImages[entry[\"name\"]] = readPNGImage(entry[\"dir\"], entry[\"name\"],\n",
    "                                                                           self.channelrange,\n",
    "                                                                           self.minwavelength,\n",
    "                                                                           10)\n",
    "                    else:\n",
    "                        raise ValueError(\"Invalid entry at row {} - Cannot load data of type '{}'.\".format(idx, dtype))\n",
    "                    print(\"\\tSize: {} bytes.\".format(self.namesToImages[entry[\"name\"]].nbytes))\n",
    "                    \n",
    "    def __len__(self):\n",
    "        return len(self.dataEntries)\n",
    "    \n",
    "    def __getitem__(self, idx):\n",
    "        entry = self.dataEntries[idx]\n",
    "        image = self.namesToImages[entry[\"name\"]]\n",
    "        side = int(entry[\"side\"])\n",
    "        scale = float(entry[\"scale\"])\n",
    "        i = int(entry[\"row\"])\n",
    "        j = int(entry[\"col\"])\n",
    "        shape = (int(side/scale),\n",
    "                 int(side/scale)\n",
    "                )\n",
    "        patch = image[:, i:i+shape[0], j:j+shape[0]]\n",
    "        # Resizing\n",
    "        patch = resize(patch, (patch.shape[0], side, side), mode=\"constant\")\n",
    "        \n",
    "        \n",
    "\n",
    "        # Convert to Torch tensor and return\n",
    "        out = torch.Tensor(patch.copy()).type(dtype).cpu()\n",
    "        #print(torch.min(out))\n",
    "        return out\n",
    "\n"
   ]
  },
  {
   "cell_type": "code",
   "execution_count": 57,
   "metadata": {},
   "outputs": [
    {
     "name": "stdout",
     "output_type": "stream",
     "text": [
      "./camSpecSensitivity/cmf_Canon40D.mat\n",
      "./camSpecSensitivity/cmf_NikonD200.mat\n",
      "./camSpecSensitivity/cmf_Phase One.mat\n",
      "./camSpecSensitivity/cmf_PentaxK5.mat\n",
      "./camSpecSensitivity/cmf_NikonD90.mat\n",
      "./camSpecSensitivity/cmf_NikonD80.mat\n",
      "./camSpecSensitivity/cmf_Hasselblad.mat\n",
      "./camSpecSensitivity/cmf_PointGreyGrasshopper2.mat\n",
      "./camSpecSensitivity/cmf_Nikon3dx.mat\n",
      "./camSpecSensitivity/cmf_PointGreyGrasshopper.mat\n",
      "./camSpecSensitivity/cmf_PentaxQ.mat\n",
      "./camSpecSensitivity/cmf_Canon20D.mat\n",
      "./camSpecSensitivity/cmf_NikonD5100.mat\n",
      "./camSpecSensitivity/cmf_Olympus EPL2.mat\n",
      "./camSpecSensitivity/cmf_Sony Nex5N.mat\n",
      "./camSpecSensitivity/cmf_Canon60D.mat\n",
      "./camSpecSensitivity/cmf_NikonD700.mat\n",
      "./camSpecSensitivity/cmf_Canon600D.mat\n",
      "./camSpecSensitivity/cmf_Canon1D Mark III.mat\n",
      "./camSpecSensitivity/cmf_Canon50D.mat\n",
      "./camSpecSensitivity/cmf_NikonD40.mat\n",
      "./camSpecSensitivity/cmf_NikonD3.mat\n",
      "./camSpecSensitivity/cmf_NikonD50.mat\n",
      "./camSpecSensitivity/cmf_NikonD300s.mat\n",
      "./camSpecSensitivity/cmf_Canon300D.mat\n",
      "./camSpecSensitivity/cmf_NokiaN900.mat\n",
      "./camSpecSensitivity/cmf_Canon500D.mat\n",
      "./camSpecSensitivity/cmf_Canon5D Mark II.mat\n"
     ]
    }
   ],
   "source": [
    "import scipy.io as scio\n",
    "import os\n",
    "import numpy  as np \n",
    "import random\n",
    "folder='./camSpecSensitivity'\n",
    "folder_ls = os.listdir(folder)\n",
    "random.shuffle(folder_ls)\n",
    "i = 0\n",
    "redCMF = np.zeros((28,) + (1, 33), dtype=np.float32)\n",
    "greenCMF = np.zeros((28,) + (1, 33), dtype=np.float32)\n",
    "blueCMF = np.zeros((28,) + (1, 33), dtype=np.float32)\n",
    "for  file in folder_ls:\n",
    "    if file.split('.')[1] == 'mat':\n",
    "        print(folder +'/'+ file)\n",
    "        mat  = scio.loadmat(folder +'/'+ file)\n",
    "        \n",
    "        red_mat = mat['r'].reshape((1, 33))\n",
    "        green_mat = mat['g'].reshape((1, 33)) \n",
    "        blue_mat = mat['b'].reshape((1, 33))\n",
    "        redCMF[i,:,:] = np.array(red_mat, dtype=np.float32)\n",
    "        greenCMF[i,:,:] = np.array(green_mat, dtype=np.float32)\n",
    "        blueCMF[i,:,:] = np.array(blue_mat, dtype=np.float32)\n",
    "        \n",
    "        i = i + 1 \n",
    "\n",
    "rgbCMF = []        \n",
    "rgbCMF.append(redCMF)\n",
    "rgbCMF.append(greenCMF)\n",
    "rgbCMF.append(blueCMF)\n",
    "#print(rgbCMF[2])"
   ]
  },
  {
   "cell_type": "code",
   "execution_count": 58,
   "metadata": {},
   "outputs": [],
   "source": [
    "# %%writefile unet.py\n",
    "import torch\n",
    "import torch.nn as nn\n",
    "import torch.cuda as cuda\n",
    "from collections import OrderedDict\n",
    "\n",
    "import torch.nn as nn\n",
    "import torch\n",
    "from torch import autograd\n",
    "\n",
    "#把常用的2个卷积操作简单封装下\n",
    "class DoubleConv(nn.Module):\n",
    "    def __init__(self, in_ch, out_ch):\n",
    "        super(DoubleConv, self).__init__()\n",
    "        self.conv = nn.Sequential(\n",
    "            nn.Conv2d(in_ch, out_ch, 3, padding=1),\n",
    "            nn.BatchNorm2d(out_ch), #添加了BN层\n",
    "            nn.LeakyReLU(inplace=True),\n",
    "            nn.Conv2d(out_ch, out_ch, 3, padding=1),\n",
    "            nn.BatchNorm2d(out_ch),\n",
    "            nn.LeakyReLU(inplace=True)\n",
    "        )\n",
    "\n",
    "    def forward(self, input):\n",
    "        return self.conv(input)\n",
    "\n",
    "  \n",
    "     \n",
    "\n",
    "\n",
    "\n",
    "\n",
    "class Unet(nn.Module):\n",
    "    def __init__(self, in_ch, out_ch):\n",
    "        super(Unet, self).__init__()\n",
    "        self.css_selection = nn.Conv2d(in_ch, 1, 1)\n",
    "        self.conv1 = DoubleConv(3, 64)\n",
    "        self.pool1 = nn.MaxPool2d(2)\n",
    "        self.conv2 = DoubleConv(64, 128)\n",
    "        self.pool2 = nn.MaxPool2d(2)\n",
    "        self.conv3 = DoubleConv(128, 256)\n",
    "        self.pool3 = nn.MaxPool2d(2)\n",
    "        self.conv4 = DoubleConv(256, 512)\n",
    "        self.pool4 = nn.MaxPool2d(2)\n",
    "        self.conv5 = DoubleConv(512, 1024)\n",
    "        # 逆卷积，也可以使用上采样\n",
    "        self.up6 = nn.ConvTranspose2d(1024, 512, 2, stride=2)\n",
    "        self.conv6 = DoubleConv(1024, 512)\n",
    "        self.up7 = nn.ConvTranspose2d(512, 256, 2, stride=2)\n",
    "        self.conv7 = DoubleConv(512, 256)\n",
    "        self.up8 = nn.ConvTranspose2d(256, 128, 2, stride=2)\n",
    "        self.conv8 = DoubleConv(256, 128)\n",
    "        self.up9 = nn.ConvTranspose2d(128, 64, 2, stride=2)\n",
    "        self.conv9 = DoubleConv(128, 64)\n",
    "        self.conv10 = nn.Conv2d(64, out_ch, 1)\n",
    "        \n",
    "\n",
    "    def forward(self, x):\n",
    "        ####x.size = (4,31,64,64)\n",
    "        batch = x.size()[0]\n",
    "        \n",
    "        ####css function\n",
    "        red_css = torch.from_numpy(rgbCMF[0]).squeeze()[:,:-2].unsqueeze(0).expand(batch, 28,31).cuda()\n",
    "        green_css = torch.from_numpy(rgbCMF[1]).squeeze()[:,:-2].unsqueeze(0).expand(batch, 28,31).cuda()\n",
    "        blue_css = torch.from_numpy(rgbCMF[2]).squeeze()[:,:-2].unsqueeze(0).expand(batch, 28,31).cuda()\n",
    "        \n",
    "      \n",
    "        #print(x.size())\n",
    "        x = x.view(batch,31,64*64) ###x.size = (4,31,64*64)\n",
    "        red_channel = torch.matmul(red_css,x).view(batch,28,64,64)\n",
    "        green_channel = torch.matmul(green_css,x).view(batch,28,64,64)\n",
    "        blue_channel = torch.matmul(blue_css,x).view(batch,28,64,64)\n",
    "        red_x = self.css_selection(red_channel)\n",
    "        green_x = nn.functional.conv2d(green_channel, self.css_selection.weight, stride=1)\n",
    "        blue_x = nn.functional.conv2d(blue_channel, self.css_selection.weight, stride=1)\n",
    "        x = torch.cat([red_x,green_x,blue_x],1)\n",
    "        #print(x[0,:,:,:].shape)\n",
    "        #plt.imshow(x[0,:,:,:].permute(2,1,0).detach().cpu().numpy())\n",
    "        #plt.imshow(RMSE[0,:, :,:].squeeze(0).cpu().numpy())\n",
    "        plt.savefig('/mnt/data/chb/hyperspectral-cs-master/rgb_image/' + 'rgb' + \".png\")\n",
    "        c1 = self.conv1(x)\n",
    "        p1 = self.pool1(c1)\n",
    "        c2 = self.conv2(p1)\n",
    "        p2 = self.pool2(c2)\n",
    "        c3 = self.conv3(p2)\n",
    "        p3 = self.pool3(c3)\n",
    "        c4 = self.conv4(p3)\n",
    "        p4 = self.pool4(c4)\n",
    "        c5 = self.conv5(p4)\n",
    "        up_6 = self.up6(c5)\n",
    "        merge6 = torch.cat([up_6, c4], dim=1)\n",
    "        c6 = self.conv6(merge6)\n",
    "        up_7 = self.up7(c6)\n",
    "        merge7 = torch.cat([up_7, c3], dim=1)\n",
    "        c7 = self.conv7(merge7)\n",
    "        up_8 = self.up8(c7)\n",
    "        merge8 = torch.cat([up_8, c2], dim=1)\n",
    "        c8 = self.conv8(merge8)\n",
    "        up_9 = self.up9(c8)\n",
    "        merge9 = torch.cat([up_9, c1], dim=1)\n",
    "        c9 = self.conv9(merge9)\n",
    "        c10 = self.conv10(c9)\n",
    "        out = nn.Sigmoid()(c10)\n",
    "        return out\n",
    "\n",
    "\n",
    "\n",
    "\n"
   ]
  },
  {
   "cell_type": "code",
   "execution_count": null,
   "metadata": {},
   "outputs": [],
   "source": []
  },
  {
   "cell_type": "code",
   "execution_count": 59,
   "metadata": {},
   "outputs": [],
   "source": [
    "# %%writefile utils.py\n",
    "import torch\n",
    "from torch.utils.data import Dataset, DataLoader\n",
    "import torch.cuda as cuda\n",
    "import matplotlib.pyplot as plt\n",
    "# Helper functions\n",
    "\n",
    "\n",
    "\n",
    "\n",
    "#################\n",
    "# Checkpointing #\n",
    "#################\n",
    "def save_checkpoint(state, is_best, filename='./checkpoints/checkpoint_epoch_77.pth.tar', always_save=False):\n",
    "    \"\"\"Save checkpoint if a new best is achieved\"\"\"\n",
    "    if is_best or always_save:\n",
    "        print (\"=> Saving checkpoint to: {}\".format(filename))\n",
    "        torch.save(state, filename)  # save checkpoint\n",
    "    else:\n",
    "        print (\"=> Validation Accuracy did not improve\")\n",
    "\n",
    "####################\n",
    "# Loss Computation #\n",
    "####################\n",
    "def compute_loss(loss, output, data, lam, model):\n",
    "    out = loss(output, data)\n",
    "    # Extract layer weights for regularization\n",
    "    for name, param in model.named_parameters():\n",
    "        if name == 'css_selection.weight':\n",
    "            #print(param.shape)\n",
    "            out += lam*(param.norm(1))\n",
    "       \n",
    "    return out\n",
    "\n",
    "##############\n",
    "# Validation #\n",
    "##############\n",
    "def validate(loss, model, val_data, lam, weights, cuda_available):\n",
    "    \"\"\"Computes the validation error of the model on the validation set.\n",
    "    val_data should be a Dataset where the first batch loads all of the data.\"\"\"\n",
    "    val_loader = DataLoader(val_data, batch_size=4, shuffle=True)\n",
    "    _, val_tensor = next(enumerate(val_loader))\n",
    "    if cuda.is_available():\n",
    "        val_tensor.cuda()\n",
    "    val_set = Variable(val_tensor, requires_grad = False)\n",
    "    output = model(val_set)\n",
    "    return compute_loss(loss, output, val_set, lam, weights)\n",
    "\n",
    "############\n",
    "# Plotting #\n",
    "############\n",
    "def save_train_val_loss_plots(trainlosses, vallosses, epoch):\n",
    "    # Train loss\n",
    "    fig = plt.figure()\n",
    "    plt.plot(trainlosses)\n",
    "    plt.title(\"Train loss\")\n",
    "    plt.xlabel(\"Iteration\")\n",
    "    plt.ylabel(\"Loss\")\n",
    "    plt.savefig(\"trainloss_epoch{}.png\".format(epoch))\n",
    "    # Val loss\n",
    "    fig = plt.figure()\n",
    "    plt.plot(vallosses)\n",
    "    plt.title(\"Val loss\")\n",
    "    plt.xlabel(\"epoch\")\n",
    "    plt.ylabel(\"Loss\")\n",
    "    plt.savefig(\"Val loss{}.png\".format(epoch))\n",
    "\n",
    "\n"
   ]
  },
  {
   "cell_type": "code",
   "execution_count": 60,
   "metadata": {},
   "outputs": [
    {
     "name": "stdout",
     "output_type": "stream",
     "text": [
      "checkpointfile: None\n",
      "start_epoch: 0\n",
      "optimizer: Adam (\n",
      "Parameter Group 0\n",
      "    amsgrad: False\n",
      "    betas: (0.9, 0.999)\n",
      "    eps: 1e-08\n",
      "    initial_lr: 0.001\n",
      "    lr: 0.001\n",
      "    weight_decay: 0.0001\n",
      ")\n",
      "batch_size: 16\n",
      "num_epochs: 2\n",
      "learning rate (initial): 0.001\n"
     ]
    },
    {
     "name": "stderr",
     "output_type": "stream",
     "text": [
      "/home/user/anaconda3/envs/pytorch91/lib/python3.6/site-packages/ipykernel_launcher.py:70: UserWarning: nn.init.constant is now deprecated in favor of nn.init.constant_.\n"
     ]
    }
   ],
   "source": [
    "# Set up training.\n",
    "checkpointfile = None\n",
    "lam = 1.0 # Weight decay parameter for L2 regularization\n",
    "learning_rate = 0.001\n",
    "num_epochs = 2\n",
    "batch_size = 16\n",
    "\n",
    "# Build model and loss\n",
    "# Hyperparameters\n",
    "height = 256\n",
    "width = 256\n",
    "inchannels = 28\n",
    "outchannels = 31\n",
    "\n",
    "\n",
    "class WeightClipper(object):\n",
    "    def __init__(self, frequency=1):\n",
    "        self.frequency = frequency\n",
    "\n",
    "    def __call__(self, module):\n",
    "        # filter the variables to get the ones you want\n",
    "        if hasattr(module, 'weight') :\n",
    "            module.weight.data.clamp_(0,100000)\n",
    "            #print(w[0].shape)\n",
    "            #w.clamp(0,1)\n",
    "            #print(module.weight.data)\n",
    "            \n",
    "\n",
    "\n",
    "clipper = WeightClipper()\n",
    "unet = Unet(inchannels, outchannels)\n",
    "loss = nn.MSELoss()\n",
    "\n",
    "\n",
    "if cuda.is_available():\n",
    "    unet.cuda()\n",
    "    loss.cuda()\n",
    "\n",
    "# Checkpointing\n",
    "if checkpointfile is not None:\n",
    "    if cuda_available:\n",
    "        checkpoint = torch.load(checkpointfile)\n",
    "    else:\n",
    "        # Load GPU model on CPU\n",
    "        checkpoint = torch.load(checkpointfile,\n",
    "                                map_location=lambda storage,\n",
    "                                loc: storage)\n",
    "    start_epoch = checkpoint['epoch']\n",
    "    best_loss = checkpoint['best_loss']\n",
    "    unet.load_state_dict(checkpoint['state_dict'])\n",
    "    \n",
    "        \n",
    "    optimizer = optim.Adam(unet.parameters(), lr=learning_rate,betas=(0.9, 0.999),weight_decay=0.0001 )\n",
    "    \n",
    "    optimizer.load_state_dict(checkpoint['optim_state_dict'])\n",
    "    \n",
    "\n",
    "    trainlosses = checkpoint['trainlosses']\n",
    "#     vallosses = checkpoint['vallosses']\n",
    "    print(\"=> loaded checkpoint '{}' (trained for {} epochs)\".format(checkpointfile, checkpoint['epoch']))\n",
    "else:\n",
    "    start_epoch = 0\n",
    "    best_loss = torch.FloatTensor([float('inf')])\n",
    "    optimizer = optim.Adam(unet.parameters(), lr=learning_rate,betas=(0.9, 0.999),weight_decay=0.0001)\n",
    "    trainlosses = []\n",
    "    vallosses = []\n",
    "    # Initialize weights:\n",
    "    for name, param in unet.named_parameters():\n",
    "        if \"css_selection.weight\" or \"css_selection.bias\" in name:\n",
    "            nn.init.constant(param, 0.001)\n",
    "        else:\n",
    "            nn.init.normal(param, mean=0, std=0.02)\n",
    "            \n",
    "# Scheduler\n",
    "scheduler = optim.lr_scheduler.MultiStepLR(optimizer, milestones=[30], gamma=0.1)\n",
    "scheduler.last_epoch = start_epoch - 1\n",
    "\n",
    "# Print summary of setup:\n",
    "print(\"checkpointfile: {}\".format(checkpointfile))\n",
    "print(\"start_epoch: {}\".format(start_epoch))\n",
    "print(\"optimizer: {}\".format(optimizer))\n",
    "print(\"batch_size: {}\".format(batch_size))\n",
    "print(\"num_epochs: {}\".format(num_epochs))\n",
    "print(\"learning rate (initial): {}\".format(learning_rate))"
   ]
  },
  {
   "cell_type": "code",
   "execution_count": 61,
   "metadata": {},
   "outputs": [
    {
     "name": "stdout",
     "output_type": "stream",
     "text": [
      "Unet(\n",
      "  (css_selection): Conv2d(28, 1, kernel_size=(1, 1), stride=(1, 1))\n",
      "  (conv1): DoubleConv(\n",
      "    (conv): Sequential(\n",
      "      (0): Conv2d(3, 64, kernel_size=(3, 3), stride=(1, 1), padding=(1, 1))\n",
      "      (1): BatchNorm2d(64, eps=1e-05, momentum=0.1, affine=True, track_running_stats=True)\n",
      "      (2): LeakyReLU(negative_slope=0.01, inplace)\n",
      "      (3): Conv2d(64, 64, kernel_size=(3, 3), stride=(1, 1), padding=(1, 1))\n",
      "      (4): BatchNorm2d(64, eps=1e-05, momentum=0.1, affine=True, track_running_stats=True)\n",
      "      (5): LeakyReLU(negative_slope=0.01, inplace)\n",
      "    )\n",
      "  )\n",
      "  (pool1): MaxPool2d(kernel_size=2, stride=2, padding=0, dilation=1, ceil_mode=False)\n",
      "  (conv2): DoubleConv(\n",
      "    (conv): Sequential(\n",
      "      (0): Conv2d(64, 128, kernel_size=(3, 3), stride=(1, 1), padding=(1, 1))\n",
      "      (1): BatchNorm2d(128, eps=1e-05, momentum=0.1, affine=True, track_running_stats=True)\n",
      "      (2): LeakyReLU(negative_slope=0.01, inplace)\n",
      "      (3): Conv2d(128, 128, kernel_size=(3, 3), stride=(1, 1), padding=(1, 1))\n",
      "      (4): BatchNorm2d(128, eps=1e-05, momentum=0.1, affine=True, track_running_stats=True)\n",
      "      (5): LeakyReLU(negative_slope=0.01, inplace)\n",
      "    )\n",
      "  )\n",
      "  (pool2): MaxPool2d(kernel_size=2, stride=2, padding=0, dilation=1, ceil_mode=False)\n",
      "  (conv3): DoubleConv(\n",
      "    (conv): Sequential(\n",
      "      (0): Conv2d(128, 256, kernel_size=(3, 3), stride=(1, 1), padding=(1, 1))\n",
      "      (1): BatchNorm2d(256, eps=1e-05, momentum=0.1, affine=True, track_running_stats=True)\n",
      "      (2): LeakyReLU(negative_slope=0.01, inplace)\n",
      "      (3): Conv2d(256, 256, kernel_size=(3, 3), stride=(1, 1), padding=(1, 1))\n",
      "      (4): BatchNorm2d(256, eps=1e-05, momentum=0.1, affine=True, track_running_stats=True)\n",
      "      (5): LeakyReLU(negative_slope=0.01, inplace)\n",
      "    )\n",
      "  )\n",
      "  (pool3): MaxPool2d(kernel_size=2, stride=2, padding=0, dilation=1, ceil_mode=False)\n",
      "  (conv4): DoubleConv(\n",
      "    (conv): Sequential(\n",
      "      (0): Conv2d(256, 512, kernel_size=(3, 3), stride=(1, 1), padding=(1, 1))\n",
      "      (1): BatchNorm2d(512, eps=1e-05, momentum=0.1, affine=True, track_running_stats=True)\n",
      "      (2): LeakyReLU(negative_slope=0.01, inplace)\n",
      "      (3): Conv2d(512, 512, kernel_size=(3, 3), stride=(1, 1), padding=(1, 1))\n",
      "      (4): BatchNorm2d(512, eps=1e-05, momentum=0.1, affine=True, track_running_stats=True)\n",
      "      (5): LeakyReLU(negative_slope=0.01, inplace)\n",
      "    )\n",
      "  )\n",
      "  (pool4): MaxPool2d(kernel_size=2, stride=2, padding=0, dilation=1, ceil_mode=False)\n",
      "  (conv5): DoubleConv(\n",
      "    (conv): Sequential(\n",
      "      (0): Conv2d(512, 1024, kernel_size=(3, 3), stride=(1, 1), padding=(1, 1))\n",
      "      (1): BatchNorm2d(1024, eps=1e-05, momentum=0.1, affine=True, track_running_stats=True)\n",
      "      (2): LeakyReLU(negative_slope=0.01, inplace)\n",
      "      (3): Conv2d(1024, 1024, kernel_size=(3, 3), stride=(1, 1), padding=(1, 1))\n",
      "      (4): BatchNorm2d(1024, eps=1e-05, momentum=0.1, affine=True, track_running_stats=True)\n",
      "      (5): LeakyReLU(negative_slope=0.01, inplace)\n",
      "    )\n",
      "  )\n",
      "  (up6): ConvTranspose2d(1024, 512, kernel_size=(2, 2), stride=(2, 2))\n",
      "  (conv6): DoubleConv(\n",
      "    (conv): Sequential(\n",
      "      (0): Conv2d(1024, 512, kernel_size=(3, 3), stride=(1, 1), padding=(1, 1))\n",
      "      (1): BatchNorm2d(512, eps=1e-05, momentum=0.1, affine=True, track_running_stats=True)\n",
      "      (2): LeakyReLU(negative_slope=0.01, inplace)\n",
      "      (3): Conv2d(512, 512, kernel_size=(3, 3), stride=(1, 1), padding=(1, 1))\n",
      "      (4): BatchNorm2d(512, eps=1e-05, momentum=0.1, affine=True, track_running_stats=True)\n",
      "      (5): LeakyReLU(negative_slope=0.01, inplace)\n",
      "    )\n",
      "  )\n",
      "  (up7): ConvTranspose2d(512, 256, kernel_size=(2, 2), stride=(2, 2))\n",
      "  (conv7): DoubleConv(\n",
      "    (conv): Sequential(\n",
      "      (0): Conv2d(512, 256, kernel_size=(3, 3), stride=(1, 1), padding=(1, 1))\n",
      "      (1): BatchNorm2d(256, eps=1e-05, momentum=0.1, affine=True, track_running_stats=True)\n",
      "      (2): LeakyReLU(negative_slope=0.01, inplace)\n",
      "      (3): Conv2d(256, 256, kernel_size=(3, 3), stride=(1, 1), padding=(1, 1))\n",
      "      (4): BatchNorm2d(256, eps=1e-05, momentum=0.1, affine=True, track_running_stats=True)\n",
      "      (5): LeakyReLU(negative_slope=0.01, inplace)\n",
      "    )\n",
      "  )\n",
      "  (up8): ConvTranspose2d(256, 128, kernel_size=(2, 2), stride=(2, 2))\n",
      "  (conv8): DoubleConv(\n",
      "    (conv): Sequential(\n",
      "      (0): Conv2d(256, 128, kernel_size=(3, 3), stride=(1, 1), padding=(1, 1))\n",
      "      (1): BatchNorm2d(128, eps=1e-05, momentum=0.1, affine=True, track_running_stats=True)\n",
      "      (2): LeakyReLU(negative_slope=0.01, inplace)\n",
      "      (3): Conv2d(128, 128, kernel_size=(3, 3), stride=(1, 1), padding=(1, 1))\n",
      "      (4): BatchNorm2d(128, eps=1e-05, momentum=0.1, affine=True, track_running_stats=True)\n",
      "      (5): LeakyReLU(negative_slope=0.01, inplace)\n",
      "    )\n",
      "  )\n",
      "  (up9): ConvTranspose2d(128, 64, kernel_size=(2, 2), stride=(2, 2))\n",
      "  (conv9): DoubleConv(\n",
      "    (conv): Sequential(\n",
      "      (0): Conv2d(128, 64, kernel_size=(3, 3), stride=(1, 1), padding=(1, 1))\n",
      "      (1): BatchNorm2d(64, eps=1e-05, momentum=0.1, affine=True, track_running_stats=True)\n",
      "      (2): LeakyReLU(negative_slope=0.01, inplace)\n",
      "      (3): Conv2d(64, 64, kernel_size=(3, 3), stride=(1, 1), padding=(1, 1))\n",
      "      (4): BatchNorm2d(64, eps=1e-05, momentum=0.1, affine=True, track_running_stats=True)\n",
      "      (5): LeakyReLU(negative_slope=0.01, inplace)\n",
      "    )\n",
      "  )\n",
      "  (conv10): Conv2d(64, 31, kernel_size=(1, 1), stride=(1, 1))\n",
      ")\n"
     ]
    }
   ],
   "source": [
    "print(unet)"
   ]
  },
  {
   "cell_type": "code",
   "execution_count": 62,
   "metadata": {
    "scrolled": true
   },
   "outputs": [
    {
     "name": "stdout",
     "output_type": "stream",
     "text": [
      "loading chart_and_stuffed_toy_ms\n",
      "\tSize: 16252928 bytes.\n",
      "loading face_ms\n",
      "\tSize: 16252928 bytes.\n",
      "loading egyptian_statue_ms\n",
      "\tSize: 16252928 bytes.\n",
      "loading superballs_ms\n",
      "\tSize: 16252928 bytes.\n",
      "loading fake_and_real_beers_ms\n",
      "\tSize: 16252928 bytes.\n",
      "loading fake_and_real_peppers_ms\n",
      "\tSize: 16252928 bytes.\n",
      "loading hairs_ms\n",
      "\tSize: 16252928 bytes.\n",
      "loading fake_and_real_strawberries_ms\n",
      "\tSize: 16252928 bytes.\n",
      "loading real_and_fake_apples_ms\n",
      "\tSize: 16252928 bytes.\n",
      "loading real_and_fake_peppers_ms\n",
      "\tSize: 16252928 bytes.\n",
      "loading glass_tiles_ms\n",
      "\tSize: 16252928 bytes.\n",
      "loading cloth_ms\n",
      "\tSize: 16252928 bytes.\n",
      "loading fake_and_real_tomatoes_ms\n",
      "\tSize: 16252928 bytes.\n",
      "loading fake_and_real_sushi_ms\n",
      "\tSize: 16252928 bytes.\n",
      "loading balloons_ms\n",
      "\tSize: 16252928 bytes.\n",
      "loading oil_painting_ms\n",
      "\tSize: 16252928 bytes.\n",
      "loading jelly_beans_ms\n",
      "\tSize: 16252928 bytes.\n",
      "loading cd_ms\n",
      "\tSize: 16252928 bytes.\n",
      "loading fake_and_real_food_ms\n",
      "\tSize: 16252928 bytes.\n",
      "loading sponges_ms\n",
      "\tSize: 16252928 bytes.\n",
      "loading fake_and_real_lemon_slices_ms\n",
      "\tSize: 16252928 bytes.\n",
      "loading paints_ms\n",
      "\tSize: 16252928 bytes.\n",
      "loading thread_spools_ms\n",
      "\tSize: 16252928 bytes.\n",
      "loading clay_ms\n",
      "\tSize: 16252928 bytes.\n",
      "loading feathers_ms\n",
      "\tSize: 16252928 bytes.\n",
      "loading fake_and_real_lemons_ms\n",
      "\tSize: 16252928 bytes.\n",
      "loading flowers_ms\n",
      "\tSize: 16252928 bytes.\n",
      "Images in training data set: 810\n"
     ]
    }
   ],
   "source": [
    "######################\n",
    "# Load Training Data #\n",
    "######################\n",
    "# Note: only need to do once.\n",
    "rebuild_dataset = True\n",
    "train_data_csv = \"data/train_large.csv\"\n",
    "if rebuild_dataset:\n",
    "    train_data = HyperspectralDataset(train_data_csv, 400, 700, inchannels, height, width)\n",
    "else:\n",
    "    train_data.update_entries(train_data_csv)\n",
    "\n",
    "print(\"Images in training data set: {}\". format(len(train_data)))"
   ]
  },
  {
   "cell_type": "code",
   "execution_count": 63,
   "metadata": {
    "scrolled": true
   },
   "outputs": [
    {
     "name": "stdout",
     "output_type": "stream",
     "text": [
      "epoch: 0\n"
     ]
    },
    {
     "name": "stderr",
     "output_type": "stream",
     "text": [
      "/home/user/anaconda3/envs/pytorch91/lib/python3.6/site-packages/skimage/transform/_warps.py:110: UserWarning: Anti-aliasing will be enabled by default in skimage 0.15 to avoid aliasing artifacts when down-sampling images.\n",
      "  warn(\"Anti-aliasing will be enabled by default in skimage 0.15 to \"\n"
     ]
    },
    {
     "name": "stdout",
     "output_type": "stream",
     "text": [
      "\titeration: 0\ttrain loss: 0.20201602578163147\n",
      "\titeration: 0\ttrain loss: 0.20376040041446686\n",
      "\titeration: 0\ttrain loss: 0.17830435931682587\n",
      "\titeration: 0\ttrain loss: 0.19450066983699799\n",
      "\titeration: 10\ttrain loss: 0.16777612268924713\n",
      "\titeration: 10\ttrain loss: 0.1663191020488739\n",
      "\titeration: 10\ttrain loss: 0.16875900328159332\n",
      "\titeration: 10\ttrain loss: 0.13803927600383759\n",
      "\titeration: 20\ttrain loss: 0.11240602284669876\n",
      "\titeration: 20\ttrain loss: 0.15123407542705536\n",
      "\titeration: 20\ttrain loss: 0.14352230727672577\n",
      "\titeration: 20\ttrain loss: 0.1437622457742691\n",
      "\titeration: 30\ttrain loss: 0.14961011707782745\n",
      "\titeration: 30\ttrain loss: 0.15501351654529572\n",
      "\titeration: 30\ttrain loss: 0.15452440083026886\n",
      "\titeration: 30\ttrain loss: 0.13662980496883392\n",
      "\titeration: 40\ttrain loss: 0.1605103313922882\n",
      "\titeration: 40\ttrain loss: 0.14878195524215698\n",
      "\titeration: 40\ttrain loss: 0.1493603140115738\n",
      "\titeration: 40\ttrain loss: 0.1352107971906662\n",
      "\titeration: 50\ttrain loss: 0.13893882930278778\n",
      "\titeration: 50\ttrain loss: 0.12648166716098785\n",
      "\titeration: 50\ttrain loss: 0.1418347954750061\n",
      "\titeration: 50\ttrain loss: 0.1358194202184677\n",
      "=> Saving checkpoint to: checkpoints_selection/checkpoint_epoch_0.pth.tar\n",
      "epoch: 1\n",
      "\titeration: 0\ttrain loss: 0.14561724662780762\n",
      "\titeration: 0\ttrain loss: 0.12942595779895782\n",
      "\titeration: 0\ttrain loss: 0.14546117186546326\n",
      "\titeration: 0\ttrain loss: 0.13585665822029114\n",
      "\titeration: 10\ttrain loss: 0.12158861756324768\n",
      "\titeration: 10\ttrain loss: 0.119610495865345\n",
      "\titeration: 10\ttrain loss: 0.13762396574020386\n",
      "\titeration: 10\ttrain loss: 0.12623685598373413\n",
      "\titeration: 20\ttrain loss: 0.11851568520069122\n",
      "\titeration: 20\ttrain loss: 0.1252496987581253\n",
      "\titeration: 20\ttrain loss: 0.09450560063123703\n",
      "\titeration: 20\ttrain loss: 0.0973951667547226\n",
      "\titeration: 30\ttrain loss: 0.13163374364376068\n",
      "\titeration: 30\ttrain loss: 0.12564918398857117\n",
      "\titeration: 30\ttrain loss: 0.12164729088544846\n",
      "\titeration: 30\ttrain loss: 0.112190842628479\n",
      "\titeration: 40\ttrain loss: 0.10986092686653137\n",
      "\titeration: 40\ttrain loss: 0.11768517643213272\n",
      "\titeration: 40\ttrain loss: 0.1142096146941185\n",
      "\titeration: 40\ttrain loss: 0.10141349583864212\n",
      "\titeration: 50\ttrain loss: 0.11516514420509338\n",
      "\titeration: 50\ttrain loss: 0.10499758273363113\n",
      "\titeration: 50\ttrain loss: 0.11451627314090729\n",
      "\titeration: 50\ttrain loss: 0.11339576542377472\n",
      "=> Saving checkpoint to: checkpoints_selection/checkpoint_epoch_1.pth.tar\n"
     ]
    },
    {
     "data": {
      "text/plain": [
       "<matplotlib.figure.Figure at 0x7fc63f8ca668>"
      ]
     },
     "metadata": {},
     "output_type": "display_data"
    }
   ],
   "source": [
    "####################\n",
    "# Run the training #\n",
    "####################\n",
    "train_loader = DataLoader(train_data, batch_size=batch_size, shuffle=True, pin_memory=True)\n",
    "\n",
    "for epoch in range(start_epoch, num_epochs):\n",
    "    print(\"epoch: {}\".format(epoch))\n",
    "    scheduler.step()\n",
    "    for it, input_ in enumerate(train_loader):\n",
    "        \n",
    "        input_1 = input_[:,:,:64,:64]   ####[4, 31, 64, 64]\n",
    "        input_2 = input_[:,:,125:189,:64]\n",
    "        input_3 = input_[:,:,:64,125:189]\n",
    "        input_4 = input_[:,:,125:189,125:189]\n",
    "        #print(input_1.size())\n",
    "        #print(input_2.size())\n",
    "        #print(input_3.size())\n",
    "        #print(input_4.size())\n",
    "        #print(input_.size())\n",
    "        \n",
    "        input_list = [input_1,input_2,input_3,input_4]\n",
    "        for input_ in input_list:\n",
    "            input_ = Variable(input_, requires_grad=True)\n",
    "            if cuda_available:\n",
    "                input_ = input_.cuda()\n",
    "            # New batch\n",
    "            scheduler.optimizer.zero_grad()\n",
    "            output = unet(input_)  ####[4, 31, 64, 64]\n",
    "            \n",
    "                \n",
    "            trainloss = compute_loss(loss, output, input_, lam, unet)\n",
    "            trainloss.backward()\n",
    "            scheduler.optimizer.step()\n",
    "            unet.css_selection.apply(clipper)\n",
    "            \n",
    "            \n",
    "            \n",
    "            #for name, param in unet.named_parameters():\n",
    "                \n",
    "                  #print(name,param)\n",
    "\n",
    "            if not (it % 10):\n",
    "                print(\"\\titeration: {}\\ttrain loss: {}\".format(it, trainloss.data))\n",
    "            trainlosses.append(trainloss.data)\n",
    "    \n",
    "        # Checkpointing\n",
    "        # Get bool not ByteTensor\n",
    "    #     valloss = validate(loss, Autoencoder, val_data, lam, weights, cuda_available)\n",
    "    #     print(\"End epoch {}\\tval loss: {}\".format(epoch, valloss.data[0]))\n",
    "    #     vallosses.append(valloss.data[0])\n",
    "    \n",
    "    #unet.css_selection.apply(clipper)\n",
    "    is_best = bool(trainloss.data.cpu().numpy() < best_loss.numpy())\n",
    "    # Get greater Tensor to keep track best acc\n",
    "    best_loss = torch.FloatTensor(min(trainloss.data.cpu().numpy(), best_loss.numpy()))\n",
    "    # Save checkpointt\n",
    "    #for name, param in unet.named_parameters():\n",
    "    #              print(name,param)\n",
    "    save_checkpoint({\n",
    "            'epoch': epoch + 1,\n",
    "            'state_dict': unet.state_dict(),\n",
    "            'best_loss': best_loss,\n",
    "            'optim_state_dict': optimizer.state_dict(),\n",
    "            'trainlosses': trainlosses\n",
    "#            'vallosses': vallosses\n",
    "    }, is_best, filename=\"checkpoints_selection/checkpoint_epoch_{}.pth.tar\".format(epoch), always_save=True)"
   ]
  },
  {
   "cell_type": "markdown",
   "metadata": {},
   "source": [
    "### Validating the unet"
   ]
  },
  {
   "cell_type": "code",
   "execution_count": 64,
   "metadata": {
    "scrolled": true
   },
   "outputs": [
    {
     "name": "stdout",
     "output_type": "stream",
     "text": [
      "loading beads_ms\n",
      "\tSize: 16252928 bytes.\n",
      "loading photo_and_face_ms\n",
      "\tSize: 16252928 bytes.\n",
      "loading pompoms_ms\n",
      "\tSize: 16252928 bytes.\n",
      "loading stuffed_toys_ms\n",
      "\tSize: 16252928 bytes.\n"
     ]
    }
   ],
   "source": [
    "# Load val image(s)\n",
    "\n",
    "val_data_csv = \"data/val_large.csv\"\n",
    "val_data = HyperspectralDataset(val_data_csv, 400, 700, inchannels, height, width)\n",
    "val_loader = DataLoader(val_data, batch_size=16, shuffle=False, pin_memory=True)"
   ]
  },
  {
   "cell_type": "code",
   "execution_count": 46,
   "metadata": {},
   "outputs": [
    {
     "name": "stdout",
     "output_type": "stream",
     "text": [
      "tensor([0., 0., 0., 0., 0., 0., 0., 0., 0., 0., 0., 0., 0., 0., 0., 0., 0., 0., 0., 0., 0., 0., 0., 0.,\n",
      "        0., 0., 0., 0.], device='cuda:0', grad_fn=<SelectBackward>)\n"
     ]
    },
    {
     "data": {
      "image/png": "[encoded data removed]",
      "text/plain": [
       "<matplotlib.figure.Figure at 0x7fcd5c7625c0>"
      ]
     },
     "metadata": {},
     "output_type": "display_data"
    }
   ],
   "source": [
    "checkpointfile = \"checkpoints_selection/checkpoint_epoch_{}.pth.tar\".format(1)\n",
    "if cuda.is_available():\n",
    "        checkpoint = torch.load(checkpointfile)\n",
    "else:\n",
    "                # Load GPU model on CPU\n",
    "        checkpoint = torch.load(checkpointfile,\n",
    "                             map_location=lambda storage,\n",
    "                            loc: storage)\n",
    "unet.load_state_dict(checkpoint['state_dict'])\n",
    "for name, param in unet.named_parameters():\n",
    "    #print(param.shape)\n",
    "    if name == 'css_selection.weight':\n",
    "        print(param[0,:,0,0])\n",
    "        ##plt.plot(range(0, 84, 1), param[0,:,0,0].detach().cpu().numpy(), color='red', label='red')\n",
    "        #plt.plot(range(0, 84, 1), param[0,:,0,0].detach().cpu().numpy(), color='blue', label='red')\n",
    "        plt.plot(range(0, 28, 1), param[0,:,0,0].detach().cpu().numpy(), color='green', label='red')\n"
   ]
  },
  {
   "cell_type": "code",
   "execution_count": 47,
   "metadata": {},
   "outputs": [],
   "source": [
    "torch.cuda.empty_cache()"
   ]
  },
  {
   "cell_type": "code",
   "execution_count": 13,
   "metadata": {},
   "outputs": [
    {
     "name": "stderr",
     "output_type": "stream",
     "text": [
      "/home/user/anaconda3/envs/pytorch91/lib/python3.6/site-packages/skimage/transform/_warps.py:110: UserWarning: Anti-aliasing will be enabled by default in skimage 0.15 to avoid aliasing artifacts when down-sampling images.\n",
      "  warn(\"Anti-aliasing will be enabled by default in skimage 0.15 to \"\n"
     ]
    },
    {
     "name": "stdout",
     "output_type": "stream",
     "text": [
      "=> loaded checkpoint 'checkpoints_selection/checkpoint_epoch_15.pth.tar' (trained for 16 epochs)\n",
      "tensor([[0.5000, 0.5000, 0.5000,  ..., 0.5000, 0.5000, 0.5000],\n",
      "        [0.5000, 0.5000, 0.5000,  ..., 0.5000, 0.5000, 0.5000],\n",
      "        [0.5000, 0.5000, 0.5000,  ..., 0.5000, 0.5000, 0.5000],\n",
      "        ...,\n",
      "        [0.5000, 0.5000, 0.5000,  ..., 0.5000, 0.5000, 0.5000],\n",
      "        [0.5000, 0.5000, 0.5000,  ..., 0.5000, 0.5000, 0.5000],\n",
      "        [0.5000, 0.5000, 0.5000,  ..., 0.5000, 0.5000, 0.5000]],\n",
      "       device='cuda:0', grad_fn=<SliceBackward>)\n"
     ]
    },
    {
     "data": {
      "image/png": "[encoded data removed]",
      "text/plain": [
       "<matplotlib.figure.Figure at 0x7fce0db20cc0>"
      ]
     },
     "metadata": {},
     "output_type": "display_data"
    },
    {
     "name": "stdout",
     "output_type": "stream",
     "text": [
      "=> loaded checkpoint 'checkpoints_selection/checkpoint_epoch_15.pth.tar' (trained for 16 epochs)\n",
      "tensor([[0.5000, 0.5000, 0.5000,  ..., 0.5000, 0.5000, 0.5000],\n",
      "        [0.5000, 0.5000, 0.5000,  ..., 0.5000, 0.5000, 0.5000],\n",
      "        [0.5000, 0.5000, 0.5000,  ..., 0.5000, 0.5000, 0.5000],\n",
      "        ...,\n",
      "        [0.5000, 0.5000, 0.5000,  ..., 0.5000, 0.5000, 0.5000],\n",
      "        [0.5000, 0.5000, 0.5000,  ..., 0.5000, 0.5000, 0.5000],\n",
      "        [0.5000, 0.5000, 0.5000,  ..., 0.5000, 0.5000, 0.5000]],\n",
      "       device='cuda:0', grad_fn=<SliceBackward>)\n"
     ]
    },
    {
     "data": {
      "image/png": "[encoded data removed]",
      "text/plain": [
       "<matplotlib.figure.Figure at 0x7fcd5c5fcac8>"
      ]
     },
     "metadata": {},
     "output_type": "display_data"
    },
    {
     "name": "stdout",
     "output_type": "stream",
     "text": [
      "=> loaded checkpoint 'checkpoints_selection/checkpoint_epoch_15.pth.tar' (trained for 16 epochs)\n",
      "tensor([[0.5000, 0.5000, 0.5000,  ..., 0.5000, 0.5000, 0.5000],\n",
      "        [0.5000, 0.5000, 0.5000,  ..., 0.5000, 0.5000, 0.5000],\n",
      "        [0.5000, 0.5000, 0.5000,  ..., 0.5000, 0.5000, 0.5000],\n",
      "        ...,\n",
      "        [0.5000, 0.5000, 0.5000,  ..., 0.5000, 0.5000, 0.5000],\n",
      "        [0.5000, 0.5000, 0.5000,  ..., 0.5000, 0.5000, 0.5000],\n",
      "        [0.5000, 0.5000, 0.5000,  ..., 0.5000, 0.5000, 0.5000]],\n",
      "       device='cuda:0', grad_fn=<SliceBackward>)\n"
     ]
    },
    {
     "data": {
      "image/png": "[encoded data removed]",
      "text/plain": [
       "<matplotlib.figure.Figure at 0x7fcd5c5cd2e8>"
      ]
     },
     "metadata": {},
     "output_type": "display_data"
    },
    {
     "name": "stdout",
     "output_type": "stream",
     "text": [
      "=> loaded checkpoint 'checkpoints_selection/checkpoint_epoch_15.pth.tar' (trained for 16 epochs)\n",
      "tensor([[0.5000, 0.5000, 0.5000,  ..., 0.5000, 0.5000, 0.5000],\n",
      "        [0.5000, 0.5000, 0.5000,  ..., 0.5000, 0.5000, 0.5000],\n",
      "        [0.5000, 0.5000, 0.5000,  ..., 0.5000, 0.5000, 0.5000],\n",
      "        ...,\n",
      "        [0.5000, 0.5000, 0.5000,  ..., 0.5000, 0.5000, 0.5000],\n",
      "        [0.5000, 0.5000, 0.5000,  ..., 0.5000, 0.5000, 0.5000],\n",
      "        [0.5000, 0.5000, 0.5000,  ..., 0.5000, 0.5000, 0.5000]],\n",
      "       device='cuda:0', grad_fn=<SliceBackward>)\n"
     ]
    },
    {
     "data": {
      "image/png": "[encoded data removed]",
      "text/plain": [
       "<matplotlib.figure.Figure at 0x7fcd5c70b0b8>"
      ]
     },
     "metadata": {},
     "output_type": "display_data"
    },
    {
     "name": "stdout",
     "output_type": "stream",
     "text": [
      "=> loaded checkpoint 'checkpoints_selection/checkpoint_epoch_15.pth.tar' (trained for 16 epochs)\n",
      "tensor([[0.5000, 0.5000, 0.5000,  ..., 0.5000, 0.5000, 0.5000],\n",
      "        [0.5000, 0.5000, 0.5000,  ..., 0.5000, 0.5000, 0.5000],\n",
      "        [0.5000, 0.5000, 0.5000,  ..., 0.5000, 0.5000, 0.5000],\n",
      "        ...,\n",
      "        [0.5000, 0.5000, 0.5000,  ..., 0.5000, 0.5000, 0.5000],\n",
      "        [0.5000, 0.5000, 0.5000,  ..., 0.5000, 0.5000, 0.5000],\n",
      "        [0.5000, 0.5000, 0.5000,  ..., 0.5000, 0.5000, 0.5000]],\n",
      "       device='cuda:0', grad_fn=<SliceBackward>)\n"
     ]
    },
    {
     "data": {
      "image/png": "[encoded data removed]",
      "text/plain": [
       "<matplotlib.figure.Figure at 0x7fcd5c7979e8>"
      ]
     },
     "metadata": {},
     "output_type": "display_data"
    },
    {
     "name": "stdout",
     "output_type": "stream",
     "text": [
      "=> loaded checkpoint 'checkpoints_selection/checkpoint_epoch_15.pth.tar' (trained for 16 epochs)\n",
      "tensor([[0.5000, 0.5000, 0.5000,  ..., 0.5000, 0.5000, 0.5000],\n",
      "        [0.5000, 0.5000, 0.5000,  ..., 0.5000, 0.5000, 0.5000],\n",
      "        [0.5000, 0.5000, 0.5000,  ..., 0.5000, 0.5000, 0.5000],\n",
      "        ...,\n",
      "        [0.5000, 0.5000, 0.5000,  ..., 0.5000, 0.5000, 0.5000],\n",
      "        [0.5000, 0.5000, 0.5000,  ..., 0.5000, 0.5000, 0.5000],\n",
      "        [0.5000, 0.5000, 0.5000,  ..., 0.5000, 0.5000, 0.5000]],\n",
      "       device='cuda:0', grad_fn=<SliceBackward>)\n"
     ]
    },
    {
     "data": {
      "image/png": "[encoded data removed]",
      "text/plain": [
       "<matplotlib.figure.Figure at 0x7fcd5c5497b8>"
      ]
     },
     "metadata": {},
     "output_type": "display_data"
    },
    {
     "name": "stdout",
     "output_type": "stream",
     "text": [
      "=> loaded checkpoint 'checkpoints_selection/checkpoint_epoch_15.pth.tar' (trained for 16 epochs)\n",
      "tensor([[0.5000, 0.5000, 0.5000,  ..., 0.5000, 0.5000, 0.5000],\n",
      "        [0.5000, 0.5000, 0.5000,  ..., 0.5000, 0.5000, 0.5000],\n",
      "        [0.5000, 0.5000, 0.5000,  ..., 0.5000, 0.5000, 0.5000],\n",
      "        ...,\n",
      "        [0.5000, 0.5000, 0.5000,  ..., 0.5000, 0.5000, 0.5000],\n",
      "        [0.5000, 0.5000, 0.5000,  ..., 0.5000, 0.5000, 0.5000],\n",
      "        [0.5000, 0.5000, 0.5000,  ..., 0.5000, 0.5000, 0.5000]],\n",
      "       device='cuda:0', grad_fn=<SliceBackward>)\n"
     ]
    },
    {
     "data": {
      "image/png": "[encoded data removed]",
      "text/plain": [
       "<matplotlib.figure.Figure at 0x7fcd5c461b70>"
      ]
     },
     "metadata": {},
     "output_type": "display_data"
    },
    {
     "name": "stdout",
     "output_type": "stream",
     "text": [
      "=> loaded checkpoint 'checkpoints_selection/checkpoint_epoch_15.pth.tar' (trained for 16 epochs)\n",
      "tensor([[0.5000, 0.5000, 0.5000,  ..., 0.5000, 0.5000, 0.5000],\n",
      "        [0.5000, 0.5000, 0.5000,  ..., 0.5000, 0.5000, 0.5000],\n",
      "        [0.5000, 0.5000, 0.5000,  ..., 0.5000, 0.5000, 0.5000],\n",
      "        ...,\n",
      "        [0.5000, 0.5000, 0.5000,  ..., 0.5000, 0.5000, 0.5000],\n",
      "        [0.5000, 0.5000, 0.5000,  ..., 0.5000, 0.5000, 0.5000],\n",
      "        [0.5000, 0.5000, 0.5000,  ..., 0.5000, 0.5000, 0.5000]],\n",
      "       device='cuda:0', grad_fn=<SliceBackward>)\n"
     ]
    },
    {
     "data": {
      "image/png": "[encoded data removed]",
      "text/plain": [
       "<matplotlib.figure.Figure at 0x7fcd5c550b00>"
      ]
     },
     "metadata": {},
     "output_type": "display_data"
    },
    {
     "name": "stdout",
     "output_type": "stream",
     "text": [
      "=> loaded checkpoint 'checkpoints_selection/checkpoint_epoch_15.pth.tar' (trained for 16 epochs)\n",
      "tensor([[0.5000, 0.5000, 0.5000,  ..., 0.5000, 0.5000, 0.5000],\n",
      "        [0.5000, 0.5000, 0.5000,  ..., 0.5000, 0.5000, 0.5000],\n",
      "        [0.5000, 0.5000, 0.5000,  ..., 0.5000, 0.5000, 0.5000],\n",
      "        ...,\n",
      "        [0.5000, 0.5000, 0.5000,  ..., 0.5000, 0.5000, 0.5000],\n",
      "        [0.5000, 0.5000, 0.5000,  ..., 0.5000, 0.5000, 0.5000],\n",
      "        [0.5000, 0.5000, 0.5000,  ..., 0.5000, 0.5000, 0.5000]],\n",
      "       device='cuda:0', grad_fn=<SliceBackward>)\n"
     ]
    },
    {
     "data": {
      "image/png": "[encoded data removed]",
      "text/plain": [
       "<matplotlib.figure.Figure at 0x7fcd5c759cc0>"
      ]
     },
     "metadata": {},
     "output_type": "display_data"
    },
    {
     "name": "stdout",
     "output_type": "stream",
     "text": [
      "=> loaded checkpoint 'checkpoints_selection/checkpoint_epoch_15.pth.tar' (trained for 16 epochs)\n",
      "tensor([[0.5000, 0.5000, 0.5000,  ..., 0.5000, 0.5000, 0.5000],\n",
      "        [0.5000, 0.5000, 0.5000,  ..., 0.5000, 0.5000, 0.5000],\n",
      "        [0.5000, 0.5000, 0.5000,  ..., 0.5000, 0.5000, 0.5000],\n",
      "        ...,\n",
      "        [0.5000, 0.5000, 0.5000,  ..., 0.5000, 0.5000, 0.5000],\n",
      "        [0.5000, 0.5000, 0.5000,  ..., 0.5000, 0.5000, 0.5000],\n",
      "        [0.5000, 0.5000, 0.5000,  ..., 0.5000, 0.5000, 0.5000]],\n",
      "       device='cuda:0', grad_fn=<SliceBackward>)\n"
     ]
    },
    {
     "data": {
      "image/png": "[encoded data removed]",
      "text/plain": [
       "<matplotlib.figure.Figure at 0x7fcd5c7792e8>"
      ]
     },
     "metadata": {},
     "output_type": "display_data"
    },
    {
     "name": "stdout",
     "output_type": "stream",
     "text": [
      "=> loaded checkpoint 'checkpoints_selection/checkpoint_epoch_15.pth.tar' (trained for 16 epochs)\n",
      "tensor([[0.5000, 0.5000, 0.5000,  ..., 0.5000, 0.5000, 0.5000],\n",
      "        [0.5000, 0.5000, 0.5000,  ..., 0.5000, 0.5000, 0.5000],\n",
      "        [0.5000, 0.5000, 0.5000,  ..., 0.5000, 0.5000, 0.5000],\n",
      "        ...,\n",
      "        [0.5000, 0.5000, 0.5000,  ..., 0.5000, 0.5000, 0.5000],\n",
      "        [0.5000, 0.5000, 0.5000,  ..., 0.5000, 0.5000, 0.5000],\n",
      "        [0.5000, 0.5000, 0.5000,  ..., 0.5000, 0.5000, 0.5000]],\n",
      "       device='cuda:0', grad_fn=<SliceBackward>)\n"
     ]
    },
    {
     "data": {
      "image/png": "[encoded data removed]",
      "text/plain": [
       "<matplotlib.figure.Figure at 0x7fcd5c2d5c50>"
      ]
     },
     "metadata": {},
     "output_type": "display_data"
    },
    {
     "name": "stdout",
     "output_type": "stream",
     "text": [
      "=> loaded checkpoint 'checkpoints_selection/checkpoint_epoch_15.pth.tar' (trained for 16 epochs)\n",
      "tensor([[0.5000, 0.5000, 0.5000,  ..., 0.5000, 0.5000, 0.5000],\n",
      "        [0.5000, 0.5000, 0.5000,  ..., 0.5000, 0.5000, 0.5000],\n",
      "        [0.5000, 0.5000, 0.5000,  ..., 0.5000, 0.5000, 0.5000],\n",
      "        ...,\n",
      "        [0.5000, 0.5000, 0.5000,  ..., 0.5000, 0.5000, 0.5000],\n",
      "        [0.5000, 0.5000, 0.5000,  ..., 0.5000, 0.5000, 0.5000],\n",
      "        [0.5000, 0.5000, 0.5000,  ..., 0.5000, 0.5000, 0.5000]],\n",
      "       device='cuda:0', grad_fn=<SliceBackward>)\n"
     ]
    },
    {
     "data": {
      "image/png": "[encoded data removed]",
      "text/plain": [
       "<matplotlib.figure.Figure at 0x7fcd5c6c03c8>"
      ]
     },
     "metadata": {},
     "output_type": "display_data"
    },
    {
     "name": "stdout",
     "output_type": "stream",
     "text": [
      "=> loaded checkpoint 'checkpoints_selection/checkpoint_epoch_15.pth.tar' (trained for 16 epochs)\n",
      "tensor([[0.5000, 0.5000, 0.5000,  ..., 0.5000, 0.5000, 0.5000],\n",
      "        [0.5000, 0.5000, 0.5000,  ..., 0.5000, 0.5000, 0.5000],\n",
      "        [0.5000, 0.5000, 0.5000,  ..., 0.5000, 0.5000, 0.5000],\n",
      "        ...,\n",
      "        [0.5000, 0.5000, 0.5000,  ..., 0.5000, 0.5000, 0.5000],\n",
      "        [0.5000, 0.5000, 0.5000,  ..., 0.5000, 0.5000, 0.5000],\n",
      "        [0.5000, 0.5000, 0.5000,  ..., 0.5000, 0.5000, 0.5000]],\n",
      "       device='cuda:0', grad_fn=<SliceBackward>)\n"
     ]
    },
    {
     "data": {
      "image/png": "[encoded data removed]",
      "text/plain": [
       "<matplotlib.figure.Figure at 0x7fcd5c4920b8>"
      ]
     },
     "metadata": {},
     "output_type": "display_data"
    },
    {
     "name": "stdout",
     "output_type": "stream",
     "text": [
      "=> loaded checkpoint 'checkpoints_selection/checkpoint_epoch_15.pth.tar' (trained for 16 epochs)\n",
      "tensor([[0.5000, 0.5000, 0.5000,  ..., 0.5000, 0.5000, 0.5000],\n",
      "        [0.5000, 0.5000, 0.5000,  ..., 0.5000, 0.5000, 0.5000],\n",
      "        [0.5000, 0.5000, 0.5000,  ..., 0.5000, 0.5000, 0.5000],\n",
      "        ...,\n",
      "        [0.5000, 0.5000, 0.5000,  ..., 0.5000, 0.5000, 0.5000],\n",
      "        [0.5000, 0.5000, 0.5000,  ..., 0.5000, 0.5000, 0.5000],\n",
      "        [0.5000, 0.5000, 0.5000,  ..., 0.5000, 0.5000, 0.5000]],\n",
      "       device='cuda:0', grad_fn=<SliceBackward>)\n"
     ]
    },
    {
     "data": {
      "image/png": "[encoded data removed]",
      "text/plain": [
       "<matplotlib.figure.Figure at 0x7fcd64237a58>"
      ]
     },
     "metadata": {},
     "output_type": "display_data"
    },
    {
     "name": "stdout",
     "output_type": "stream",
     "text": [
      "=> loaded checkpoint 'checkpoints_selection/checkpoint_epoch_15.pth.tar' (trained for 16 epochs)\n",
      "tensor([[0.5000, 0.5000, 0.5000,  ..., 0.5000, 0.5000, 0.5000],\n",
      "        [0.5000, 0.5000, 0.5000,  ..., 0.5000, 0.5000, 0.5000],\n",
      "        [0.5000, 0.5000, 0.5000,  ..., 0.5000, 0.5000, 0.5000],\n",
      "        ...,\n",
      "        [0.5000, 0.5000, 0.5000,  ..., 0.5000, 0.5000, 0.5000],\n",
      "        [0.5000, 0.5000, 0.5000,  ..., 0.5000, 0.5000, 0.5000],\n",
      "        [0.5000, 0.5000, 0.5000,  ..., 0.5000, 0.5000, 0.5000]],\n",
      "       device='cuda:0', grad_fn=<SliceBackward>)\n"
     ]
    },
    {
     "data": {
      "image/png": "[encoded data removed]",
      "text/plain": [
       "<matplotlib.figure.Figure at 0x7fcd5c4e5c50>"
      ]
     },
     "metadata": {},
     "output_type": "display_data"
    },
    {
     "name": "stdout",
     "output_type": "stream",
     "text": [
      "=> loaded checkpoint 'checkpoints_selection/checkpoint_epoch_15.pth.tar' (trained for 16 epochs)\n",
      "tensor([[0.5000, 0.5000, 0.5000,  ..., 0.5000, 0.5000, 0.5000],\n",
      "        [0.5000, 0.5000, 0.5000,  ..., 0.5000, 0.5000, 0.5000],\n",
      "        [0.5000, 0.5000, 0.5000,  ..., 0.5000, 0.5000, 0.5000],\n",
      "        ...,\n",
      "        [0.5000, 0.5000, 0.5000,  ..., 0.5000, 0.5000, 0.5000],\n",
      "        [0.5000, 0.5000, 0.5000,  ..., 0.5000, 0.5000, 0.5000],\n",
      "        [0.5000, 0.5000, 0.5000,  ..., 0.5000, 0.5000, 0.5000]],\n",
      "       device='cuda:0', grad_fn=<SliceBackward>)\n"
     ]
    },
    {
     "data": {
      "image/png": "[encoded data removed]",
      "text/plain": [
       "<matplotlib.figure.Figure at 0x7fcd6402c4e0>"
      ]
     },
     "metadata": {},
     "output_type": "display_data"
    },
    {
     "name": "stdout",
     "output_type": "stream",
     "text": [
      "=> loaded checkpoint 'checkpoints_selection/checkpoint_epoch_15.pth.tar' (trained for 16 epochs)\n",
      "tensor([[0.5000, 0.5000, 0.5000,  ..., 0.5000, 0.5000, 0.5000],\n",
      "        [0.5000, 0.5000, 0.5000,  ..., 0.5000, 0.5000, 0.5000],\n",
      "        [0.5000, 0.5000, 0.5000,  ..., 0.5000, 0.5000, 0.5000],\n",
      "        ...,\n",
      "        [0.5000, 0.5000, 0.5000,  ..., 0.5000, 0.5000, 0.5000],\n",
      "        [0.5000, 0.5000, 0.5000,  ..., 0.5000, 0.5000, 0.5000],\n",
      "        [0.5000, 0.5000, 0.5000,  ..., 0.5000, 0.5000, 0.5000]],\n",
      "       device='cuda:0', grad_fn=<SliceBackward>)\n"
     ]
    },
    {
     "data": {
      "image/png": "[encoded data removed]",
      "text/plain": [
       "<matplotlib.figure.Figure at 0x7fcd5c4b8cc0>"
      ]
     },
     "metadata": {},
     "output_type": "display_data"
    },
    {
     "name": "stdout",
     "output_type": "stream",
     "text": [
      "=> loaded checkpoint 'checkpoints_selection/checkpoint_epoch_15.pth.tar' (trained for 16 epochs)\n",
      "tensor([[0.5000, 0.5000, 0.5000,  ..., 0.5000, 0.5000, 0.5000],\n",
      "        [0.5000, 0.5000, 0.5000,  ..., 0.5000, 0.5000, 0.5000],\n",
      "        [0.5000, 0.5000, 0.5000,  ..., 0.5000, 0.5000, 0.5000],\n",
      "        ...,\n",
      "        [0.5000, 0.5000, 0.5000,  ..., 0.5000, 0.5000, 0.5000],\n",
      "        [0.5000, 0.5000, 0.5000,  ..., 0.5000, 0.5000, 0.5000],\n",
      "        [0.5000, 0.5000, 0.5000,  ..., 0.5000, 0.5000, 0.5000]],\n",
      "       device='cuda:0', grad_fn=<SliceBackward>)\n"
     ]
    },
    {
     "data": {
      "image/png": "[encoded data removed]",
      "text/plain": [
       "<matplotlib.figure.Figure at 0x7fcd5c5507b8>"
      ]
     },
     "metadata": {},
     "output_type": "display_data"
    },
    {
     "name": "stdout",
     "output_type": "stream",
     "text": [
      "=> loaded checkpoint 'checkpoints_selection/checkpoint_epoch_15.pth.tar' (trained for 16 epochs)\n",
      "tensor([[0.5000, 0.5000, 0.5000,  ..., 0.5000, 0.5000, 0.5000],\n",
      "        [0.5000, 0.5000, 0.5000,  ..., 0.5000, 0.5000, 0.5000],\n",
      "        [0.5000, 0.5000, 0.5000,  ..., 0.5000, 0.5000, 0.5000],\n",
      "        ...,\n",
      "        [0.5000, 0.5000, 0.5000,  ..., 0.5000, 0.5000, 0.5000],\n",
      "        [0.5000, 0.5000, 0.5000,  ..., 0.5000, 0.5000, 0.5000],\n",
      "        [0.5000, 0.5000, 0.5000,  ..., 0.5000, 0.5000, 0.5000]],\n",
      "       device='cuda:0', grad_fn=<SliceBackward>)\n"
     ]
    },
    {
     "data": {
      "image/png": "[encoded data removed]",
      "text/plain": [
       "<matplotlib.figure.Figure at 0x7fcd5c4e6a90>"
      ]
     },
     "metadata": {},
     "output_type": "display_data"
    },
    {
     "name": "stdout",
     "output_type": "stream",
     "text": [
      "=> loaded checkpoint 'checkpoints_selection/checkpoint_epoch_15.pth.tar' (trained for 16 epochs)\n",
      "tensor([[0.5000, 0.5000, 0.5000,  ..., 0.5000, 0.5000, 0.5000],\n",
      "        [0.5000, 0.5000, 0.5000,  ..., 0.5000, 0.5000, 0.5000],\n",
      "        [0.5000, 0.5000, 0.5000,  ..., 0.5000, 0.5000, 0.5000],\n",
      "        ...,\n",
      "        [0.5000, 0.5000, 0.5000,  ..., 0.5000, 0.5000, 0.5000],\n",
      "        [0.5000, 0.5000, 0.5000,  ..., 0.5000, 0.5000, 0.5000],\n",
      "        [0.5000, 0.5000, 0.5000,  ..., 0.5000, 0.5000, 0.5000]],\n",
      "       device='cuda:0', grad_fn=<SliceBackward>)\n"
     ]
    },
    {
     "data": {
      "image/png": "[encoded data removed]",
      "text/plain": [
       "<matplotlib.figure.Figure at 0x7fcd5c7910b8>"
      ]
     },
     "metadata": {},
     "output_type": "display_data"
    },
    {
     "name": "stdout",
     "output_type": "stream",
     "text": [
      "=> loaded checkpoint 'checkpoints_selection/checkpoint_epoch_15.pth.tar' (trained for 16 epochs)\n",
      "tensor([[0.5000, 0.5000, 0.5000,  ..., 0.5000, 0.5000, 0.5000],\n",
      "        [0.5000, 0.5000, 0.5000,  ..., 0.5000, 0.5000, 0.5000],\n",
      "        [0.5000, 0.5000, 0.5000,  ..., 0.5000, 0.5000, 0.5000],\n",
      "        ...,\n",
      "        [0.5000, 0.5000, 0.5000,  ..., 0.5000, 0.5000, 0.5000],\n",
      "        [0.5000, 0.5000, 0.5000,  ..., 0.5000, 0.5000, 0.5000],\n",
      "        [0.5000, 0.5000, 0.5000,  ..., 0.5000, 0.5000, 0.5000]],\n",
      "       device='cuda:0', grad_fn=<SliceBackward>)\n"
     ]
    },
    {
     "data": {
      "image/png": "[encoded data removed]",
      "text/plain": [
       "<matplotlib.figure.Figure at 0x7fcd5c791cc0>"
      ]
     },
     "metadata": {},
     "output_type": "display_data"
    },
    {
     "name": "stdout",
     "output_type": "stream",
     "text": [
      "=> loaded checkpoint 'checkpoints_selection/checkpoint_epoch_15.pth.tar' (trained for 16 epochs)\n",
      "tensor([[0.5000, 0.5000, 0.5000,  ..., 0.5000, 0.5000, 0.5000],\n",
      "        [0.5000, 0.5000, 0.5000,  ..., 0.5000, 0.5000, 0.5000],\n",
      "        [0.5000, 0.5000, 0.5000,  ..., 0.5000, 0.5000, 0.5000],\n",
      "        ...,\n",
      "        [0.5000, 0.5000, 0.5000,  ..., 0.5000, 0.5000, 0.5000],\n",
      "        [0.5000, 0.5000, 0.5000,  ..., 0.5000, 0.5000, 0.5000],\n",
      "        [0.5000, 0.5000, 0.5000,  ..., 0.5000, 0.5000, 0.5000]],\n",
      "       device='cuda:0', grad_fn=<SliceBackward>)\n"
     ]
    },
    {
     "data": {
      "image/png": "[encoded data removed]",
      "text/plain": [
       "<matplotlib.figure.Figure at 0x7fcd5c769a20>"
      ]
     },
     "metadata": {},
     "output_type": "display_data"
    },
    {
     "name": "stdout",
     "output_type": "stream",
     "text": [
      "=> loaded checkpoint 'checkpoints_selection/checkpoint_epoch_15.pth.tar' (trained for 16 epochs)\n",
      "tensor([[0.5000, 0.5000, 0.5000,  ..., 0.5000, 0.5000, 0.5000],\n",
      "        [0.5000, 0.5000, 0.5000,  ..., 0.5000, 0.5000, 0.5000],\n",
      "        [0.5000, 0.5000, 0.5000,  ..., 0.5000, 0.5000, 0.5000],\n",
      "        ...,\n",
      "        [0.5000, 0.5000, 0.5000,  ..., 0.5000, 0.5000, 0.5000],\n",
      "        [0.5000, 0.5000, 0.5000,  ..., 0.5000, 0.5000, 0.5000],\n",
      "        [0.5000, 0.5000, 0.5000,  ..., 0.5000, 0.5000, 0.5000]],\n",
      "       device='cuda:0', grad_fn=<SliceBackward>)\n"
     ]
    },
    {
     "data": {
      "image/png": "[encoded data removed]",
      "text/plain": [
       "<matplotlib.figure.Figure at 0x7fcd5c617dd8>"
      ]
     },
     "metadata": {},
     "output_type": "display_data"
    },
    {
     "name": "stdout",
     "output_type": "stream",
     "text": [
      "=> loaded checkpoint 'checkpoints_selection/checkpoint_epoch_15.pth.tar' (trained for 16 epochs)\n",
      "tensor([[0.5000, 0.5000, 0.5000,  ..., 0.5000, 0.5000, 0.5000],\n",
      "        [0.5000, 0.5000, 0.5000,  ..., 0.5000, 0.5000, 0.5000],\n",
      "        [0.5000, 0.5000, 0.5000,  ..., 0.5000, 0.5000, 0.5000],\n",
      "        ...,\n",
      "        [0.5000, 0.5000, 0.5000,  ..., 0.5000, 0.5000, 0.5000],\n",
      "        [0.5000, 0.5000, 0.5000,  ..., 0.5000, 0.5000, 0.5000],\n",
      "        [0.5000, 0.5000, 0.5000,  ..., 0.5000, 0.5000, 0.5000]],\n",
      "       device='cuda:0', grad_fn=<SliceBackward>)\n"
     ]
    },
    {
     "data": {
      "image/png": "[encoded data removed]",
      "text/plain": [
       "<matplotlib.figure.Figure at 0x7fcd5c76acc0>"
      ]
     },
     "metadata": {},
     "output_type": "display_data"
    },
    {
     "name": "stdout",
     "output_type": "stream",
     "text": [
      "=> loaded checkpoint 'checkpoints_selection/checkpoint_epoch_15.pth.tar' (trained for 16 epochs)\n",
      "tensor([[0.5000, 0.5000, 0.5000,  ..., 0.5000, 0.5000, 0.5000],\n",
      "        [0.5000, 0.5000, 0.5000,  ..., 0.5000, 0.5000, 0.5000],\n",
      "        [0.5000, 0.5000, 0.5000,  ..., 0.5000, 0.5000, 0.5000],\n",
      "        ...,\n",
      "        [0.5000, 0.5000, 0.5000,  ..., 0.5000, 0.5000, 0.5000],\n",
      "        [0.5000, 0.5000, 0.5000,  ..., 0.5000, 0.5000, 0.5000],\n",
      "        [0.5000, 0.5000, 0.5000,  ..., 0.5000, 0.5000, 0.5000]],\n",
      "       device='cuda:0', grad_fn=<SliceBackward>)\n"
     ]
    },
    {
     "data": {
      "image/png": "[encoded data removed]",
      "text/plain": [
       "<matplotlib.figure.Figure at 0x7fcd5c364fd0>"
      ]
     },
     "metadata": {},
     "output_type": "display_data"
    },
    {
     "name": "stdout",
     "output_type": "stream",
     "text": [
      "=> loaded checkpoint 'checkpoints_selection/checkpoint_epoch_15.pth.tar' (trained for 16 epochs)\n",
      "tensor([[0.5000, 0.5000, 0.5000,  ..., 0.5000, 0.5000, 0.5000],\n",
      "        [0.5000, 0.5000, 0.5000,  ..., 0.5000, 0.5000, 0.5000],\n",
      "        [0.5000, 0.5000, 0.5000,  ..., 0.5000, 0.5000, 0.5000],\n",
      "        ...,\n",
      "        [0.5000, 0.5000, 0.5000,  ..., 0.5000, 0.5000, 0.5000],\n",
      "        [0.5000, 0.5000, 0.5000,  ..., 0.5000, 0.5000, 0.5000],\n",
      "        [0.5000, 0.5000, 0.5000,  ..., 0.5000, 0.5000, 0.5000]],\n",
      "       device='cuda:0', grad_fn=<SliceBackward>)\n"
     ]
    },
    {
     "data": {
      "image/png": "[encoded data removed]",
      "text/plain": [
       "<matplotlib.figure.Figure at 0x7fcd5c769860>"
      ]
     },
     "metadata": {},
     "output_type": "display_data"
    },
    {
     "name": "stdout",
     "output_type": "stream",
     "text": [
      "=> loaded checkpoint 'checkpoints_selection/checkpoint_epoch_15.pth.tar' (trained for 16 epochs)\n",
      "tensor([[0.5000, 0.5000, 0.5000,  ..., 0.5000, 0.5000, 0.5000],\n",
      "        [0.5000, 0.5000, 0.5000,  ..., 0.5000, 0.5000, 0.5000],\n",
      "        [0.5000, 0.5000, 0.5000,  ..., 0.5000, 0.5000, 0.5000],\n",
      "        ...,\n",
      "        [0.5000, 0.5000, 0.5000,  ..., 0.5000, 0.5000, 0.5000],\n",
      "        [0.5000, 0.5000, 0.5000,  ..., 0.5000, 0.5000, 0.5000],\n",
      "        [0.5000, 0.5000, 0.5000,  ..., 0.5000, 0.5000, 0.5000]],\n",
      "       device='cuda:0', grad_fn=<SliceBackward>)\n"
     ]
    },
    {
     "data": {
      "image/png": "[encoded data removed]",
      "text/plain": [
       "<matplotlib.figure.Figure at 0x7fcd5c1ab2e8>"
      ]
     },
     "metadata": {},
     "output_type": "display_data"
    },
    {
     "name": "stdout",
     "output_type": "stream",
     "text": [
      "=> loaded checkpoint 'checkpoints_selection/checkpoint_epoch_15.pth.tar' (trained for 16 epochs)\n",
      "tensor([[0.5000, 0.5000, 0.5000,  ..., 0.5000, 0.5000, 0.5000],\n",
      "        [0.5000, 0.5000, 0.5000,  ..., 0.5000, 0.5000, 0.5000],\n",
      "        [0.5000, 0.5000, 0.5000,  ..., 0.5000, 0.5000, 0.5000],\n",
      "        ...,\n",
      "        [0.5000, 0.5000, 0.5000,  ..., 0.5000, 0.5000, 0.5000],\n",
      "        [0.5000, 0.5000, 0.5000,  ..., 0.5000, 0.5000, 0.5000],\n",
      "        [0.5000, 0.5000, 0.5000,  ..., 0.5000, 0.5000, 0.5000]],\n",
      "       device='cuda:0', grad_fn=<SliceBackward>)\n"
     ]
    },
    {
     "ename": "KeyboardInterrupt",
     "evalue": "",
     "output_type": "error",
     "traceback": [
      "\u001b[0;31m---------------------------------------------------------------------------\u001b[0m",
      "\u001b[0;31mKeyboardInterrupt\u001b[0m                         Traceback (most recent call last)",
      "\u001b[0;32m<ipython-input-13-5000544cb053>\u001b[0m in \u001b[0;36m<module>\u001b[0;34m()\u001b[0m\n\u001b[1;32m     39\u001b[0m             \u001b[0mplt\u001b[0m\u001b[0;34m.\u001b[0m\u001b[0mimshow\u001b[0m\u001b[0;34m(\u001b[0m\u001b[0moutput\u001b[0m\u001b[0;34m[\u001b[0m\u001b[0;36m0\u001b[0m\u001b[0;34m,\u001b[0m\u001b[0;36m0\u001b[0m\u001b[0;34m,\u001b[0m \u001b[0;34m:\u001b[0m\u001b[0;34m,\u001b[0m\u001b[0;34m:\u001b[0m\u001b[0;34m]\u001b[0m\u001b[0;34m.\u001b[0m\u001b[0mdetach\u001b[0m\u001b[0;34m(\u001b[0m\u001b[0;34m)\u001b[0m\u001b[0;34m.\u001b[0m\u001b[0mcpu\u001b[0m\u001b[0;34m(\u001b[0m\u001b[0;34m)\u001b[0m\u001b[0;34m.\u001b[0m\u001b[0mnumpy\u001b[0m\u001b[0;34m(\u001b[0m\u001b[0;34m)\u001b[0m\u001b[0;34m)\u001b[0m\u001b[0;34m\u001b[0m\u001b[0m\n\u001b[1;32m     40\u001b[0m             \u001b[0;31m#plt.imshow(RMSE[0,:, :,:].squeeze(0).cpu().numpy())\u001b[0m\u001b[0;34m\u001b[0m\u001b[0;34m\u001b[0m\u001b[0m\n\u001b[0;32m---> 41\u001b[0;31m             \u001b[0mplt\u001b[0m\u001b[0;34m.\u001b[0m\u001b[0mshow\u001b[0m\u001b[0;34m(\u001b[0m\u001b[0;34m)\u001b[0m\u001b[0;34m\u001b[0m\u001b[0m\n\u001b[0m\u001b[1;32m     42\u001b[0m             \u001b[0mRMSE\u001b[0m \u001b[0;34m=\u001b[0m \u001b[0mrmse\u001b[0m\u001b[0;34m(\u001b[0m\u001b[0moutput\u001b[0m\u001b[0;34m,\u001b[0m\u001b[0minput_\u001b[0m\u001b[0;34m)\u001b[0m\u001b[0;34m\u001b[0m\u001b[0m\n\u001b[1;32m     43\u001b[0m             \u001b[0mRMSE_all\u001b[0m\u001b[0;34m.\u001b[0m\u001b[0mappend\u001b[0m\u001b[0;34m(\u001b[0m\u001b[0mRMSE\u001b[0m\u001b[0;34m.\u001b[0m\u001b[0mdetach\u001b[0m\u001b[0;34m(\u001b[0m\u001b[0;34m)\u001b[0m\u001b[0;34m.\u001b[0m\u001b[0mcpu\u001b[0m\u001b[0;34m(\u001b[0m\u001b[0;34m)\u001b[0m\u001b[0;34m.\u001b[0m\u001b[0mnumpy\u001b[0m\u001b[0;34m(\u001b[0m\u001b[0;34m)\u001b[0m\u001b[0;34m)\u001b[0m\u001b[0;34m\u001b[0m\u001b[0m\n",
      "\u001b[0;32m~/anaconda3/envs/pytorch91/lib/python3.6/site-packages/matplotlib/pyplot.py\u001b[0m in \u001b[0;36mshow\u001b[0;34m(*args, **kw)\u001b[0m\n\u001b[1;32m    252\u001b[0m     \"\"\"\n\u001b[1;32m    253\u001b[0m     \u001b[0;32mglobal\u001b[0m \u001b[0m_show\u001b[0m\u001b[0;34m\u001b[0m\u001b[0m\n\u001b[0;32m--> 254\u001b[0;31m     \u001b[0;32mreturn\u001b[0m \u001b[0m_show\u001b[0m\u001b[0;34m(\u001b[0m\u001b[0;34m*\u001b[0m\u001b[0margs\u001b[0m\u001b[0;34m,\u001b[0m \u001b[0;34m**\u001b[0m\u001b[0mkw\u001b[0m\u001b[0;34m)\u001b[0m\u001b[0;34m\u001b[0m\u001b[0m\n\u001b[0m\u001b[1;32m    255\u001b[0m \u001b[0;34m\u001b[0m\u001b[0m\n\u001b[1;32m    256\u001b[0m \u001b[0;34m\u001b[0m\u001b[0m\n",
      "\u001b[0;32m~/anaconda3/envs/pytorch91/lib/python3.6/site-packages/ipykernel/pylab/backend_inline.py\u001b[0m in \u001b[0;36mshow\u001b[0;34m(close, block)\u001b[0m\n\u001b[1;32m     34\u001b[0m     \u001b[0;32mtry\u001b[0m\u001b[0;34m:\u001b[0m\u001b[0;34m\u001b[0m\u001b[0m\n\u001b[1;32m     35\u001b[0m         \u001b[0;32mfor\u001b[0m \u001b[0mfigure_manager\u001b[0m \u001b[0;32min\u001b[0m \u001b[0mGcf\u001b[0m\u001b[0;34m.\u001b[0m\u001b[0mget_all_fig_managers\u001b[0m\u001b[0;34m(\u001b[0m\u001b[0;34m)\u001b[0m\u001b[0;34m:\u001b[0m\u001b[0;34m\u001b[0m\u001b[0m\n\u001b[0;32m---> 36\u001b[0;31m             \u001b[0mdisplay\u001b[0m\u001b[0;34m(\u001b[0m\u001b[0mfigure_manager\u001b[0m\u001b[0;34m.\u001b[0m\u001b[0mcanvas\u001b[0m\u001b[0;34m.\u001b[0m\u001b[0mfigure\u001b[0m\u001b[0;34m)\u001b[0m\u001b[0;34m\u001b[0m\u001b[0m\n\u001b[0m\u001b[1;32m     37\u001b[0m     \u001b[0;32mfinally\u001b[0m\u001b[0;34m:\u001b[0m\u001b[0;34m\u001b[0m\u001b[0m\n\u001b[1;32m     38\u001b[0m         \u001b[0mshow\u001b[0m\u001b[0;34m.\u001b[0m\u001b[0m_to_draw\u001b[0m \u001b[0;34m=\u001b[0m \u001b[0;34m[\u001b[0m\u001b[0;34m]\u001b[0m\u001b[0;34m\u001b[0m\u001b[0m\n",
      "\u001b[0;32m~/anaconda3/envs/pytorch91/lib/python3.6/site-packages/IPython/core/display.py\u001b[0m in \u001b[0;36mdisplay\u001b[0;34m(include, exclude, metadata, transient, display_id, *objs, **kwargs)\u001b[0m\n\u001b[1;32m    295\u001b[0m             \u001b[0mpublish_display_data\u001b[0m\u001b[0;34m(\u001b[0m\u001b[0mdata\u001b[0m\u001b[0;34m=\u001b[0m\u001b[0mobj\u001b[0m\u001b[0;34m,\u001b[0m \u001b[0mmetadata\u001b[0m\u001b[0;34m=\u001b[0m\u001b[0mmetadata\u001b[0m\u001b[0;34m,\u001b[0m \u001b[0;34m**\u001b[0m\u001b[0mkwargs\u001b[0m\u001b[0;34m)\u001b[0m\u001b[0;34m\u001b[0m\u001b[0m\n\u001b[1;32m    296\u001b[0m         \u001b[0;32melse\u001b[0m\u001b[0;34m:\u001b[0m\u001b[0;34m\u001b[0m\u001b[0m\n\u001b[0;32m--> 297\u001b[0;31m             \u001b[0mformat_dict\u001b[0m\u001b[0;34m,\u001b[0m \u001b[0mmd_dict\u001b[0m \u001b[0;34m=\u001b[0m \u001b[0mformat\u001b[0m\u001b[0;34m(\u001b[0m\u001b[0mobj\u001b[0m\u001b[0;34m,\u001b[0m \u001b[0minclude\u001b[0m\u001b[0;34m=\u001b[0m\u001b[0minclude\u001b[0m\u001b[0;34m,\u001b[0m \u001b[0mexclude\u001b[0m\u001b[0;34m=\u001b[0m\u001b[0mexclude\u001b[0m\u001b[0;34m)\u001b[0m\u001b[0;34m\u001b[0m\u001b[0m\n\u001b[0m\u001b[1;32m    298\u001b[0m             \u001b[0;32mif\u001b[0m \u001b[0;32mnot\u001b[0m \u001b[0mformat_dict\u001b[0m\u001b[0;34m:\u001b[0m\u001b[0;34m\u001b[0m\u001b[0m\n\u001b[1;32m    299\u001b[0m                 \u001b[0;31m# nothing to display (e.g. _ipython_display_ took over)\u001b[0m\u001b[0;34m\u001b[0m\u001b[0;34m\u001b[0m\u001b[0m\n",
      "\u001b[0;32m~/anaconda3/envs/pytorch91/lib/python3.6/site-packages/IPython/core/formatters.py\u001b[0m in \u001b[0;36mformat\u001b[0;34m(self, obj, include, exclude)\u001b[0m\n\u001b[1;32m    178\u001b[0m             \u001b[0mmd\u001b[0m \u001b[0;34m=\u001b[0m \u001b[0;32mNone\u001b[0m\u001b[0;34m\u001b[0m\u001b[0m\n\u001b[1;32m    179\u001b[0m             \u001b[0;32mtry\u001b[0m\u001b[0;34m:\u001b[0m\u001b[0;34m\u001b[0m\u001b[0m\n\u001b[0;32m--> 180\u001b[0;31m                 \u001b[0mdata\u001b[0m \u001b[0;34m=\u001b[0m \u001b[0mformatter\u001b[0m\u001b[0;34m(\u001b[0m\u001b[0mobj\u001b[0m\u001b[0;34m)\u001b[0m\u001b[0;34m\u001b[0m\u001b[0m\n\u001b[0m\u001b[1;32m    181\u001b[0m             \u001b[0;32mexcept\u001b[0m\u001b[0;34m:\u001b[0m\u001b[0;34m\u001b[0m\u001b[0m\n\u001b[1;32m    182\u001b[0m                 \u001b[0;31m# FIXME: log the exception\u001b[0m\u001b[0;34m\u001b[0m\u001b[0;34m\u001b[0m\u001b[0m\n",
      "\u001b[0;32m<decorator-gen-9>\u001b[0m in \u001b[0;36m__call__\u001b[0;34m(self, obj)\u001b[0m\n",
      "\u001b[0;32m~/anaconda3/envs/pytorch91/lib/python3.6/site-packages/IPython/core/formatters.py\u001b[0m in \u001b[0;36mcatch_format_error\u001b[0;34m(method, self, *args, **kwargs)\u001b[0m\n\u001b[1;32m    222\u001b[0m     \u001b[0;34m\"\"\"show traceback on failed format call\"\"\"\u001b[0m\u001b[0;34m\u001b[0m\u001b[0m\n\u001b[1;32m    223\u001b[0m     \u001b[0;32mtry\u001b[0m\u001b[0;34m:\u001b[0m\u001b[0;34m\u001b[0m\u001b[0m\n\u001b[0;32m--> 224\u001b[0;31m         \u001b[0mr\u001b[0m \u001b[0;34m=\u001b[0m \u001b[0mmethod\u001b[0m\u001b[0;34m(\u001b[0m\u001b[0mself\u001b[0m\u001b[0;34m,\u001b[0m \u001b[0;34m*\u001b[0m\u001b[0margs\u001b[0m\u001b[0;34m,\u001b[0m \u001b[0;34m**\u001b[0m\u001b[0mkwargs\u001b[0m\u001b[0;34m)\u001b[0m\u001b[0;34m\u001b[0m\u001b[0m\n\u001b[0m\u001b[1;32m    225\u001b[0m     \u001b[0;32mexcept\u001b[0m \u001b[0mNotImplementedError\u001b[0m\u001b[0;34m:\u001b[0m\u001b[0;34m\u001b[0m\u001b[0m\n\u001b[1;32m    226\u001b[0m         \u001b[0;31m# don't warn on NotImplementedErrors\u001b[0m\u001b[0;34m\u001b[0m\u001b[0;34m\u001b[0m\u001b[0m\n",
      "\u001b[0;32m~/anaconda3/envs/pytorch91/lib/python3.6/site-packages/IPython/core/formatters.py\u001b[0m in \u001b[0;36m__call__\u001b[0;34m(self, obj)\u001b[0m\n\u001b[1;32m    339\u001b[0m                 \u001b[0;32mpass\u001b[0m\u001b[0;34m\u001b[0m\u001b[0m\n\u001b[1;32m    340\u001b[0m             \u001b[0;32melse\u001b[0m\u001b[0;34m:\u001b[0m\u001b[0;34m\u001b[0m\u001b[0m\n\u001b[0;32m--> 341\u001b[0;31m                 \u001b[0;32mreturn\u001b[0m \u001b[0mprinter\u001b[0m\u001b[0;34m(\u001b[0m\u001b[0mobj\u001b[0m\u001b[0;34m)\u001b[0m\u001b[0;34m\u001b[0m\u001b[0m\n\u001b[0m\u001b[1;32m    342\u001b[0m             \u001b[0;31m# Finally look for special method names\u001b[0m\u001b[0;34m\u001b[0m\u001b[0;34m\u001b[0m\u001b[0m\n\u001b[1;32m    343\u001b[0m             \u001b[0mmethod\u001b[0m \u001b[0;34m=\u001b[0m \u001b[0mget_real_method\u001b[0m\u001b[0;34m(\u001b[0m\u001b[0mobj\u001b[0m\u001b[0;34m,\u001b[0m \u001b[0mself\u001b[0m\u001b[0;34m.\u001b[0m\u001b[0mprint_method\u001b[0m\u001b[0;34m)\u001b[0m\u001b[0;34m\u001b[0m\u001b[0m\n",
      "\u001b[0;32m~/anaconda3/envs/pytorch91/lib/python3.6/site-packages/IPython/core/pylabtools.py\u001b[0m in \u001b[0;36m<lambda>\u001b[0;34m(fig)\u001b[0m\n\u001b[1;32m    236\u001b[0m \u001b[0;34m\u001b[0m\u001b[0m\n\u001b[1;32m    237\u001b[0m     \u001b[0;32mif\u001b[0m \u001b[0;34m'png'\u001b[0m \u001b[0;32min\u001b[0m \u001b[0mformats\u001b[0m\u001b[0;34m:\u001b[0m\u001b[0;34m\u001b[0m\u001b[0m\n\u001b[0;32m--> 238\u001b[0;31m         \u001b[0mpng_formatter\u001b[0m\u001b[0;34m.\u001b[0m\u001b[0mfor_type\u001b[0m\u001b[0;34m(\u001b[0m\u001b[0mFigure\u001b[0m\u001b[0;34m,\u001b[0m \u001b[0;32mlambda\u001b[0m \u001b[0mfig\u001b[0m\u001b[0;34m:\u001b[0m \u001b[0mprint_figure\u001b[0m\u001b[0;34m(\u001b[0m\u001b[0mfig\u001b[0m\u001b[0;34m,\u001b[0m \u001b[0;34m'png'\u001b[0m\u001b[0;34m,\u001b[0m \u001b[0;34m**\u001b[0m\u001b[0mkwargs\u001b[0m\u001b[0;34m)\u001b[0m\u001b[0;34m)\u001b[0m\u001b[0;34m\u001b[0m\u001b[0m\n\u001b[0m\u001b[1;32m    239\u001b[0m     \u001b[0;32mif\u001b[0m \u001b[0;34m'retina'\u001b[0m \u001b[0;32min\u001b[0m \u001b[0mformats\u001b[0m \u001b[0;32mor\u001b[0m \u001b[0;34m'png2x'\u001b[0m \u001b[0;32min\u001b[0m \u001b[0mformats\u001b[0m\u001b[0;34m:\u001b[0m\u001b[0;34m\u001b[0m\u001b[0m\n\u001b[1;32m    240\u001b[0m         \u001b[0mpng_formatter\u001b[0m\u001b[0;34m.\u001b[0m\u001b[0mfor_type\u001b[0m\u001b[0;34m(\u001b[0m\u001b[0mFigure\u001b[0m\u001b[0;34m,\u001b[0m \u001b[0;32mlambda\u001b[0m \u001b[0mfig\u001b[0m\u001b[0;34m:\u001b[0m \u001b[0mretina_figure\u001b[0m\u001b[0;34m(\u001b[0m\u001b[0mfig\u001b[0m\u001b[0;34m,\u001b[0m \u001b[0;34m**\u001b[0m\u001b[0mkwargs\u001b[0m\u001b[0;34m)\u001b[0m\u001b[0;34m)\u001b[0m\u001b[0;34m\u001b[0m\u001b[0m\n",
      "\u001b[0;32m~/anaconda3/envs/pytorch91/lib/python3.6/site-packages/IPython/core/pylabtools.py\u001b[0m in \u001b[0;36mprint_figure\u001b[0;34m(fig, fmt, bbox_inches, **kwargs)\u001b[0m\n\u001b[1;32m    120\u001b[0m \u001b[0;34m\u001b[0m\u001b[0m\n\u001b[1;32m    121\u001b[0m     \u001b[0mbytes_io\u001b[0m \u001b[0;34m=\u001b[0m \u001b[0mBytesIO\u001b[0m\u001b[0;34m(\u001b[0m\u001b[0;34m)\u001b[0m\u001b[0;34m\u001b[0m\u001b[0m\n\u001b[0;32m--> 122\u001b[0;31m     \u001b[0mfig\u001b[0m\u001b[0;34m.\u001b[0m\u001b[0mcanvas\u001b[0m\u001b[0;34m.\u001b[0m\u001b[0mprint_figure\u001b[0m\u001b[0;34m(\u001b[0m\u001b[0mbytes_io\u001b[0m\u001b[0;34m,\u001b[0m \u001b[0;34m**\u001b[0m\u001b[0mkw\u001b[0m\u001b[0;34m)\u001b[0m\u001b[0;34m\u001b[0m\u001b[0m\n\u001b[0m\u001b[1;32m    123\u001b[0m     \u001b[0mdata\u001b[0m \u001b[0;34m=\u001b[0m \u001b[0mbytes_io\u001b[0m\u001b[0;34m.\u001b[0m\u001b[0mgetvalue\u001b[0m\u001b[0;34m(\u001b[0m\u001b[0;34m)\u001b[0m\u001b[0;34m\u001b[0m\u001b[0m\n\u001b[1;32m    124\u001b[0m     \u001b[0;32mif\u001b[0m \u001b[0mfmt\u001b[0m \u001b[0;34m==\u001b[0m \u001b[0;34m'svg'\u001b[0m\u001b[0;34m:\u001b[0m\u001b[0;34m\u001b[0m\u001b[0m\n",
      "\u001b[0;32m~/anaconda3/envs/pytorch91/lib/python3.6/site-packages/matplotlib/backend_bases.py\u001b[0m in \u001b[0;36mprint_figure\u001b[0;34m(self, filename, dpi, facecolor, edgecolor, orientation, format, **kwargs)\u001b[0m\n\u001b[1;32m   2265\u001b[0m                 \u001b[0morientation\u001b[0m\u001b[0;34m=\u001b[0m\u001b[0morientation\u001b[0m\u001b[0;34m,\u001b[0m\u001b[0;34m\u001b[0m\u001b[0m\n\u001b[1;32m   2266\u001b[0m                 \u001b[0mbbox_inches_restore\u001b[0m\u001b[0;34m=\u001b[0m\u001b[0m_bbox_inches_restore\u001b[0m\u001b[0;34m,\u001b[0m\u001b[0;34m\u001b[0m\u001b[0m\n\u001b[0;32m-> 2267\u001b[0;31m                 **kwargs)\n\u001b[0m\u001b[1;32m   2268\u001b[0m         \u001b[0;32mfinally\u001b[0m\u001b[0;34m:\u001b[0m\u001b[0;34m\u001b[0m\u001b[0m\n\u001b[1;32m   2269\u001b[0m             \u001b[0;32mif\u001b[0m \u001b[0mbbox_inches\u001b[0m \u001b[0;32mand\u001b[0m \u001b[0mrestore_bbox\u001b[0m\u001b[0;34m:\u001b[0m\u001b[0;34m\u001b[0m\u001b[0m\n",
      "\u001b[0;32m~/anaconda3/envs/pytorch91/lib/python3.6/site-packages/matplotlib/backends/backend_agg.py\u001b[0m in \u001b[0;36mprint_png\u001b[0;34m(self, filename_or_obj, *args, **kwargs)\u001b[0m\n\u001b[1;32m    524\u001b[0m         \u001b[0;32mtry\u001b[0m\u001b[0;34m:\u001b[0m\u001b[0;34m\u001b[0m\u001b[0m\n\u001b[1;32m    525\u001b[0m             _png.write_png(renderer._renderer, filename_or_obj,\n\u001b[0;32m--> 526\u001b[0;31m                            self.figure.dpi, metadata=metadata)\n\u001b[0m\u001b[1;32m    527\u001b[0m         \u001b[0;32mfinally\u001b[0m\u001b[0;34m:\u001b[0m\u001b[0;34m\u001b[0m\u001b[0m\n\u001b[1;32m    528\u001b[0m             \u001b[0;32mif\u001b[0m \u001b[0mclose\u001b[0m\u001b[0;34m:\u001b[0m\u001b[0;34m\u001b[0m\u001b[0m\n",
      "\u001b[0;31mKeyboardInterrupt\u001b[0m: "
     ]
    }
   ],
   "source": [
    "###the root mean square error (RMSE)\n",
    "def rmse(predictions, targets):\n",
    "    return torch.sqrt(torch.mean((predictions - targets)**2))\n",
    "\n",
    "RMSE_all = []\n",
    "for _, input_ in enumerate(val_loader):\n",
    "        input_1 = input_[:,:,:64,:64]   ####[4, 31, 64, 64]\n",
    "        input_2 = input_[:,:,125:189,:64]\n",
    "        input_3 = input_[:,:,:64,125:189]\n",
    "        input_4 = input_[:,:,125:189,125:189]\n",
    "        #print(input_1.size())\n",
    "        #print(input_2.size())\n",
    "        #print(input_3.size())\n",
    "        #print(input_4.size())\n",
    "        #print(input_.size())\n",
    "        \n",
    "        input_list = [input_1,input_2,input_3,input_4]\n",
    "        for input_ in input_list:\n",
    "            input_ = Variable(input_, requires_grad=False)\n",
    "            if cuda_available:\n",
    "                input_ = input_.cuda()\n",
    "            checkpointfile = \"checkpoints_selection/checkpoint_epoch_{}.pth.tar\".format(15)\n",
    "            if cuda.is_available():\n",
    "                checkpoint = torch.load(checkpointfile)\n",
    "            else:\n",
    "                # Load GPU model on CPU\n",
    "                checkpoint = torch.load(checkpointfile,\n",
    "                                map_location=lambda storage,\n",
    "                                loc: storage)\n",
    "            unet.load_state_dict(checkpoint['state_dict'])\n",
    "            \n",
    "            trainlosses = checkpoint[\"trainlosses\"]\n",
    "            print(\"=> loaded checkpoint '{}' (trained for {} epochs)\".format(checkpointfile, checkpoint['epoch']))\n",
    "\n",
    "\n",
    "\n",
    "            output = unet(input_)\n",
    "            print(output[0,0, :,:])\n",
    "            plt.imshow(output[0,0, :,:].detach().cpu().numpy())\n",
    "            #plt.imshow(RMSE[0,:, :,:].squeeze(0).cpu().numpy())\n",
    "            plt.show()\n",
    "            RMSE = rmse(output,input_)\n",
    "            RMSE_all.append(RMSE.detach().cpu().numpy())\n",
    "\n",
    "            #print(RMSE.size())\n",
    "            #plt.imshow(RMSE[0,:, :,:].squeeze(0).cpu().numpy())\n",
    "RMSE_val_mean = np.mean(RMSE_all)\n",
    "print(\"=> All validation dataset ，the average of the RMSE of  is '{}'\".format(RMSE_val_mean))\n"
   ]
  },
  {
   "cell_type": "code",
   "execution_count": null,
   "metadata": {},
   "outputs": [],
   "source": []
  },
  {
   "cell_type": "code",
   "execution_count": 50,
   "metadata": {},
   "outputs": [
    {
     "name": "stderr",
     "output_type": "stream",
     "text": [
      "/home/user/anaconda3/envs/pytorch91/lib/python3.6/site-packages/skimage/transform/_warps.py:110: UserWarning: Anti-aliasing will be enabled by default in skimage 0.15 to avoid aliasing artifacts when down-sampling images.\n",
      "  warn(\"Anti-aliasing will be enabled by default in skimage 0.15 to \"\n"
     ]
    },
    {
     "ename": "FileNotFoundError",
     "evalue": "[Errno 2] No such file or directory: 'checkpoints/checkpoint_epoch_119.pth.tar'",
     "output_type": "error",
     "traceback": [
      "\u001b[0;31m---------------------------------------------------------------------------\u001b[0m",
      "\u001b[0;31mFileNotFoundError\u001b[0m                         Traceback (most recent call last)",
      "\u001b[0;32m<ipython-input-50-a6fe17cc5382>\u001b[0m in \u001b[0;36m<module>\u001b[0;34m()\u001b[0m\n\u001b[1;32m      6\u001b[0m     \u001b[0mcheckpointfile\u001b[0m \u001b[0;34m=\u001b[0m \u001b[0;34m\"checkpoints/checkpoint_epoch_{}.pth.tar\"\u001b[0m\u001b[0;34m.\u001b[0m\u001b[0mformat\u001b[0m\u001b[0;34m(\u001b[0m\u001b[0;36m119\u001b[0m\u001b[0;34m)\u001b[0m\u001b[0;34m\u001b[0m\u001b[0m\n\u001b[1;32m      7\u001b[0m     \u001b[0;32mif\u001b[0m \u001b[0mcuda\u001b[0m\u001b[0;34m.\u001b[0m\u001b[0mis_available\u001b[0m\u001b[0;34m(\u001b[0m\u001b[0;34m)\u001b[0m\u001b[0;34m:\u001b[0m\u001b[0;34m\u001b[0m\u001b[0m\n\u001b[0;32m----> 8\u001b[0;31m         \u001b[0mcheckpoint\u001b[0m \u001b[0;34m=\u001b[0m \u001b[0mtorch\u001b[0m\u001b[0;34m.\u001b[0m\u001b[0mload\u001b[0m\u001b[0;34m(\u001b[0m\u001b[0mcheckpointfile\u001b[0m\u001b[0;34m)\u001b[0m\u001b[0;34m\u001b[0m\u001b[0m\n\u001b[0m\u001b[1;32m      9\u001b[0m     \u001b[0;32melse\u001b[0m\u001b[0;34m:\u001b[0m\u001b[0;34m\u001b[0m\u001b[0m\n\u001b[1;32m     10\u001b[0m         \u001b[0;31m# Load GPU model on CPU\u001b[0m\u001b[0;34m\u001b[0m\u001b[0;34m\u001b[0m\u001b[0m\n",
      "\u001b[0;32m~/anaconda3/envs/pytorch91/lib/python3.6/site-packages/torch/serialization.py\u001b[0m in \u001b[0;36mload\u001b[0;34m(f, map_location, pickle_module)\u001b[0m\n\u001b[1;32m    364\u001b[0m             \u001b[0;34m(\u001b[0m\u001b[0msys\u001b[0m\u001b[0;34m.\u001b[0m\u001b[0mversion_info\u001b[0m\u001b[0;34m[\u001b[0m\u001b[0;36m0\u001b[0m\u001b[0;34m]\u001b[0m \u001b[0;34m==\u001b[0m \u001b[0;36m3\u001b[0m \u001b[0;32mand\u001b[0m \u001b[0misinstance\u001b[0m\u001b[0;34m(\u001b[0m\u001b[0mf\u001b[0m\u001b[0;34m,\u001b[0m \u001b[0mpathlib\u001b[0m\u001b[0;34m.\u001b[0m\u001b[0mPath\u001b[0m\u001b[0;34m)\u001b[0m\u001b[0;34m)\u001b[0m\u001b[0;34m:\u001b[0m\u001b[0;34m\u001b[0m\u001b[0m\n\u001b[1;32m    365\u001b[0m         \u001b[0mnew_fd\u001b[0m \u001b[0;34m=\u001b[0m \u001b[0;32mTrue\u001b[0m\u001b[0;34m\u001b[0m\u001b[0m\n\u001b[0;32m--> 366\u001b[0;31m         \u001b[0mf\u001b[0m \u001b[0;34m=\u001b[0m \u001b[0mopen\u001b[0m\u001b[0;34m(\u001b[0m\u001b[0mf\u001b[0m\u001b[0;34m,\u001b[0m \u001b[0;34m'rb'\u001b[0m\u001b[0;34m)\u001b[0m\u001b[0;34m\u001b[0m\u001b[0m\n\u001b[0m\u001b[1;32m    367\u001b[0m     \u001b[0;32mtry\u001b[0m\u001b[0;34m:\u001b[0m\u001b[0;34m\u001b[0m\u001b[0m\n\u001b[1;32m    368\u001b[0m         \u001b[0;32mreturn\u001b[0m \u001b[0m_load\u001b[0m\u001b[0;34m(\u001b[0m\u001b[0mf\u001b[0m\u001b[0;34m,\u001b[0m \u001b[0mmap_location\u001b[0m\u001b[0;34m,\u001b[0m \u001b[0mpickle_module\u001b[0m\u001b[0;34m)\u001b[0m\u001b[0;34m\u001b[0m\u001b[0m\n",
      "\u001b[0;31mFileNotFoundError\u001b[0m: [Errno 2] No such file or directory: 'checkpoints/checkpoint_epoch_119.pth.tar'"
     ]
    }
   ],
   "source": [
    "train_loader = DataLoader(train_data, batch_size=batch_size, shuffle=True, pin_memory=True)\n",
    "RMSE_train_all = []\n",
    "for _, input_ in enumerate(train_loader):\n",
    "    if cuda_available:\n",
    "        input_ = input_.cuda()\n",
    "    checkpointfile = \"checkpoints/checkpoint_epoch_{}.pth.tar\".format(99)\n",
    "    if cuda.is_available():\n",
    "        checkpoint = torch.load(checkpointfile)\n",
    "    else:\n",
    "        # Load GPU model on CPU\n",
    "        checkpoint = torch.load(checkpointfile,\n",
    "                                map_location=lambda storage,\n",
    "                                loc: storage)\n",
    "    unet.load_state_dict(checkpoint['state_dict'])\n",
    "    trainlosses = checkpoint[\"trainlosses\"]\n",
    "    print(\"=> loaded checkpoint '{}' (trained for {} epochs)\".format(checkpointfile, checkpoint['epoch']))\n",
    "\n",
    "\n",
    "\n",
    "    output,RGB = unet(input_)\n",
    "    RMSE = rmse(output,input_)\n",
    "    RMSE_train_all.append(torch.mean(RMSE).cpu().numpy())\n",
    "    #print(RMSE.size())\n",
    "    plt.imshow(RMSE[0,0, :,:].cpu().numpy())\n",
    "    #plt.imshow(RMSE[0,:, :,:].squeeze(0).cpu().numpy())\n",
    "    plt.show()\n",
    "RMSE_train_mean = np.mean(RMSE_train_all)\n",
    "RMSE_train_variance = np.var(RMSE_train_all)\n",
    "print(RMSE_train_mean)\n",
    "print(RMSE_train_variance)"
   ]
  },
  {
   "cell_type": "code",
   "execution_count": null,
   "metadata": {},
   "outputs": [],
   "source": []
  },
  {
   "cell_type": "code",
   "execution_count": null,
   "metadata": {},
   "outputs": [],
   "source": [
    "# Val loss\n",
    "fig = plt.figure()\n",
    "plt.semilogy(vallosses)\n",
    "plt.title(\"Val loss\")\n",
    "plt.xlabel(\"Epoch\")\n",
    "plt.ylabel(\"Loss\")\n",
    "plt.savefig(\"trainloss_epoch{}.png\".format(120))"
   ]
  },
  {
   "cell_type": "code",
   "execution_count": null,
   "metadata": {},
   "outputs": [],
   "source": [
    "# Train loss\n",
    "fig = plt.figure()\n",
    "plt.semilogy(trainlosses)\n",
    "plt.title(\"Train loss\")\n",
    "plt.xlabel(\"Iteration\")\n",
    "plt.ylabel(\"Loss\")\n",
    "plt.savefig(\"trainloss_epoch{}.png\".format(120))"
   ]
  },
  {
   "cell_type": "code",
   "execution_count": null,
   "metadata": {},
   "outputs": [],
   "source": []
  },
  {
   "cell_type": "code",
   "execution_count": null,
   "metadata": {
    "scrolled": true
   },
   "outputs": [],
   "source": [
    "###plot 420-660 channels\n",
    "# Visualize hyperspectral images\n",
    "from matplotlib.colors import LinearSegmentedColormap\n",
    "def plot_all_channels(data, channels_to_wavelengths,value, attributes):\n",
    "    \"\"\"Plot the channels in the data, color coded by wavelength.\n",
    "    channels_to_wavelengths[i] gives the wavelength in nm of the ith channel.\"\"\"\n",
    "    plt.figure(figsize=(24, 13))\n",
    "    inchannels = len(channels_to_wavelengths)\n",
    "    for channel in range(inchannels):\n",
    "        wavelength = channels_to_wavelengths[channel]\n",
    "        #r, g, b = spectral_color(wavelength)\n",
    "        \n",
    "#         low = hsv_to_rgb(h, s, 0)\n",
    "#         high = hsv_to_rgb(h, s, 1)\n",
    "        \n",
    "        #lambd = LinearSegmentedColormap('lambd', cdict)\n",
    "        \n",
    "        ax = plt.subplot(1, inchannels, channel+1)\n",
    "\n",
    "        #ax.imshow(data[0,channel,:,:], cmap=lambd, origin='lower')\n",
    "        #ax.set_title(attributes,fontsize=12,color='r')\n",
    "\n",
    "        ax.imshow(data[0,channel,:,:])\n",
    "        plt.axis('off')\n",
    "        plt.tight_layout\n",
    "        plt.savefig('/mnt/chb/hyperspectral-cs-master/plot_image/' + attributes+ str(value) + \".png\")\n",
    "\n",
    "\n",
    "for i, input_ in enumerate(val_loader):\n",
    "    if cuda_available:\n",
    "        input_ = input_.cuda()\n",
    "    checkpointfile = \"checkpoints/checkpoint_epoch_{}.pth.tar\".format(119)\n",
    "    if cuda.is_available():\n",
    "        checkpoint = torch.load(checkpointfile)\n",
    "    else:\n",
    "        # Load GPU model on CPU\n",
    "        checkpoint = torch.load(checkpointfile,\n",
    "                                map_location=lambda storage,\n",
    "                                loc: storage)\n",
    "    unet.load_state_dict(checkpoint['state_dict'])\n",
    "    trainlosses = checkpoint[\"trainlosses\"]\n",
    "    print(\"=> loaded checkpoint '{}' (trained for {} epochs)\".format(checkpointfile, checkpoint['epoch']))\n",
    "\n",
    "\n",
    "\n",
    "    output,RGB = unet(input_)\n",
    "    RMSE = rmse(output,input_)\n",
    "    \n",
    "    plot_all_channels(input_.cpu(), range(420, 661, 40),i,'origin images')\n",
    "    \n",
    "    plot_all_channels(output.cpu(), range(420, 661, 40),i,'reconstructed images')\n",
    "    \n",
    "    plot_all_channels(RMSE.cpu(), range(420, 661, 40),i,'RMSE images')"
   ]
  },
  {
   "cell_type": "code",
   "execution_count": null,
   "metadata": {},
   "outputs": [],
   "source": []
  },
  {
   "cell_type": "code",
   "execution_count": null,
   "metadata": {},
   "outputs": [],
   "source": []
  },
  {
   "cell_type": "code",
   "execution_count": null,
   "metadata": {},
   "outputs": [],
   "source": []
  },
  {
   "cell_type": "code",
   "execution_count": null,
   "metadata": {},
   "outputs": [],
   "source": []
  },
  {
   "cell_type": "code",
   "execution_count": null,
   "metadata": {},
   "outputs": [],
   "source": []
  }
 ],
 "metadata": {
  "kernelspec": {
   "display_name": "pytorch91",
   "language": "python",
   "name": "pytorch91"
  },
  "language_info": {
   "codemirror_mode": {
    "name": "ipython",
    "version": 3
   },
   "file_extension": ".py",
   "mimetype": "text/x-python",
   "name": "python",
   "nbconvert_exporter": "python",
   "pygments_lexer": "ipython3",
   "version": "3.6.4"
  }
 },
 "nbformat": 4,
 "nbformat_minor": 2
}
